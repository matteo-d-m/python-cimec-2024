{
 "cells": [
  {
   "cell_type": "markdown",
   "id": "6af7a192",
   "metadata": {
    "slideshow": {
     "slide_type": "slide"
    }
   },
   "source": [
    "# Python for (open) Neuroscience\n",
    "\n",
    "_Lecture 1.5_ - More plotting\n",
    "\n",
    "Luigi Petrucco\n",
    "\n",
    "[![Open In Colab](https://colab.research.google.com/assets/colab-badge.svg)](https://colab.research.google.com/github/vigji/python-cimec-2024/blob/main/lectures/Lecture1.5_More-plotting.ipynb)"
   ]
  },
  {
   "cell_type": "markdown",
   "id": "a710cfbb",
   "metadata": {
    "slideshow": {
     "slide_type": "slide"
    }
   },
   "source": [
    "## Object-oriented plotting using `matplotlib`"
   ]
  },
  {
   "cell_type": "markdown",
   "id": "e208d4cc",
   "metadata": {
    "slideshow": {
     "slide_type": "fragment"
    }
   },
   "source": [
    "Recap: the standard plotting library in Python is `matplotlib`."
   ]
  },
  {
   "cell_type": "code",
   "execution_count": 26,
   "id": "bed5a647",
   "metadata": {
    "ExecuteTime": {
     "end_time": "2023-05-22T08:28:49.494840Z",
     "start_time": "2023-05-22T08:28:49.485496Z"
    },
    "slideshow": {
     "slide_type": "fragment"
    }
   },
   "outputs": [],
   "source": [
    "import matplotlib.pyplot as plt"
   ]
  },
  {
   "cell_type": "markdown",
   "id": "1457ef42",
   "metadata": {
    "slideshow": {
     "slide_type": "subslide"
    }
   },
   "source": [
    "To open a new figure, we call `plt.figure()` (if we don't, matplotlib will plot on the last figure we opened)."
   ]
  },
  {
   "cell_type": "code",
   "execution_count": 71,
   "id": "12acf8cd",
   "metadata": {
    "ExecuteTime": {
     "end_time": "2023-05-22T06:57:59.886350Z",
     "start_time": "2023-05-22T06:57:59.818850Z"
    }
   },
   "outputs": [
    {
     "data": {
      "text/plain": [
       "[<matplotlib.lines.Line2D at 0x12a1aee80>]"
      ]
     },
     "execution_count": 71,
     "metadata": {},
     "output_type": "execute_result"
    },
    {
     "data": {
      "image/png": "[encoded data removed]",
      "text/plain": [
       "<Figure size 300x200 with 1 Axes>"
      ]
     },
     "metadata": {},
     "output_type": "display_data"
    }
   ],
   "source": [
    "plt.figure(figsize=(3,2))  # with the figsize argument we can control the dimension of the plot\n",
    "plt.plot([1, 2, 2, 3])  # plot a line\n"
   ]
  },
  {
   "cell_type": "markdown",
   "id": "28d2bf0b",
   "metadata": {
    "slideshow": {
     "slide_type": "subslide"
    }
   },
   "source": [
    "In a simple plot we can control attributes of the plot with some functions such as `plt.xlabel()` or `plt.xlim()`:"
   ]
  },
  {
   "cell_type": "code",
   "execution_count": 33,
   "id": "db4bdba1",
   "metadata": {
    "ExecuteTime": {
     "end_time": "2023-05-22T08:29:17.326755Z",
     "start_time": "2023-05-22T08:29:17.261606Z"
    }
   },
   "outputs": [
    {
     "data": {
      "text/plain": [
       "(0.0, 500.0)"
      ]
     },
     "execution_count": 33,
     "metadata": {},
     "output_type": "execute_result"
    },
    {
     "data": {
      "image/png": "[encoded data removed]",
      "text/plain": [
       "<Figure size 300x200 with 1 Axes>"
      ]
     },
     "metadata": {},
     "output_type": "display_data"
    }
   ],
   "source": [
    "plt.figure(figsize=(3,2))\n",
    "plt.hist(np.random.randn(1000))\n",
    "plt.xlabel(\"Values\")\n",
    "plt.ylabel(\"Count\")\n",
    "plt.ylim(0, 500)"
   ]
  },
  {
   "cell_type": "markdown",
   "id": "13daed02",
   "metadata": {
    "slideshow": {
     "slide_type": "subslide"
    }
   },
   "source": [
    "## Object oriented interface"
   ]
  },
  {
   "cell_type": "markdown",
   "id": "61e39bf3",
   "metadata": {
    "slideshow": {
     "slide_type": "fragment"
    }
   },
   "source": [
    "`matplotlib` has two interfaces: a simple one, and an object oriented one."
   ]
  },
  {
   "cell_type": "markdown",
   "id": "25c5b605",
   "metadata": {
    "slideshow": {
     "slide_type": "fragment"
    }
   },
   "source": [
    "To make more complex plots, we should use the object oriented interface: it's more flexible and expressive."
   ]
  },
  {
   "cell_type": "code",
   "execution_count": 34,
   "id": "4fa2643b",
   "metadata": {
    "ExecuteTime": {
     "end_time": "2023-05-22T08:31:14.375476Z",
     "start_time": "2023-05-22T08:31:14.327837Z"
    },
    "slideshow": {
     "slide_type": "subslide"
    }
   },
   "outputs": [
    {
     "data": {
      "text/plain": [
       "(matplotlib.figure.Figure, matplotlib.axes._axes.Axes)"
      ]
     },
     "execution_count": 34,
     "metadata": {},
     "output_type": "execute_result"
    },
    {
     "data": {
      "image/png": "[encoded data removed]",
      "text/plain": [
       "<Figure size 300x200 with 1 Axes>"
      ]
     },
     "metadata": {},
     "output_type": "display_data"
    }
   ],
   "source": [
    "fig, ax = plt.subplots(figsize=(3,2)) # this will create a figure and an axis object"
   ]
  },
  {
   "cell_type": "code",
   "execution_count": 72,
   "id": "4fa16601",
   "metadata": {
    "slideshow": {
     "slide_type": "fragment"
    }
   },
   "outputs": [
    {
     "data": {
      "text/plain": [
       "(matplotlib.figure.Figure, matplotlib.axes._axes.Axes)"
      ]
     },
     "execution_count": 72,
     "metadata": {},
     "output_type": "execute_result"
    }
   ],
   "source": [
    "type(fig), type(ax)"
   ]
  },
  {
   "cell_type": "code",
   "execution_count": 74,
   "id": "3f84d3b8",
   "metadata": {
    "ExecuteTime": {
     "end_time": "2023-05-22T08:31:16.184821Z",
     "start_time": "2023-05-22T08:31:16.175017Z"
    },
    "slideshow": {
     "slide_type": "subslide"
    }
   },
   "outputs": [
    {
     "data": {
      "text/plain": [
       "[Text(0.5, 0, 'Time'), Text(0, 0.5, 'Money'), Text(0.5, 1.0, 'My plot')]"
      ]
     },
     "execution_count": 74,
     "metadata": {},
     "output_type": "execute_result"
    },
    {
     "data": {
      "image/png": "[encoded data removed]",
      "text/plain": [
       "<Figure size 300x200 with 1 Axes>"
      ]
     },
     "metadata": {},
     "output_type": "display_data"
    }
   ],
   "source": [
    "fig, ax = plt.subplots(figsize=(3,2)) # this will create a figure and an axis object\n",
    "# We can now call methods of the axis object:\n",
    "ax.plot([1, 2, 2, 3])\n",
    "\n",
    "# We can modify the aspect of the axis using its methods:\n",
    "ax.set(xlabel=\"Time\", ylabel=\"Money\", title=\"My plot\")"
   ]
  },
  {
   "cell_type": "markdown",
   "id": "f11010be",
   "metadata": {
    "slideshow": {
     "slide_type": "fragment"
    }
   },
   "source": [
    "My recommandation is to get used to the object oriented interface!"
   ]
  },
  {
   "cell_type": "markdown",
   "id": "d6130ebb",
   "metadata": {
    "slideshow": {
     "slide_type": "subslide"
    }
   },
   "source": [
    "Also, I would generally stick to the `matplotlib` functions to generate panels and not mix code with the pandas plotting functions."
   ]
  },
  {
   "cell_type": "markdown",
   "id": "e7796f52",
   "metadata": {
    "slideshow": {
     "slide_type": "subslide"
    }
   },
   "source": [
    "## Matplotlib subplots"
   ]
  },
  {
   "cell_type": "markdown",
   "id": "e67d1508",
   "metadata": {},
   "source": [
    "Using `plt.subplots()` we can create a figure with multiple panels:"
   ]
  },
  {
   "cell_type": "code",
   "execution_count": 75,
   "id": "9897f8ea",
   "metadata": {
    "ExecuteTime": {
     "end_time": "2023-05-22T08:30:22.562232Z",
     "start_time": "2023-05-22T08:30:22.409590Z"
    }
   },
   "outputs": [
    {
     "data": {
      "image/png": "[encoded data removed]",
      "text/plain": [
       "<Figure size 600x400 with 4 Axes>"
      ]
     },
     "metadata": {},
     "output_type": "display_data"
    }
   ],
   "source": [
    "fig, axes = plt.subplots(2, 2, figsize=(6, 4))"
   ]
  },
  {
   "cell_type": "markdown",
   "id": "f189c92d",
   "metadata": {
    "slideshow": {
     "slide_type": "subslide"
    }
   },
   "source": [
    "Those axes will be a 2x2 array `numpy` array of axis objects!"
   ]
  },
  {
   "cell_type": "code",
   "execution_count": 76,
   "id": "ddd3e48d",
   "metadata": {
    "ExecuteTime": {
     "end_time": "2023-05-22T08:10:27.938046Z",
     "start_time": "2023-05-22T08:10:27.924589Z"
    },
    "slideshow": {
     "slide_type": "fragment"
    }
   },
   "outputs": [
    {
     "data": {
      "text/plain": [
       "numpy.ndarray"
      ]
     },
     "execution_count": 76,
     "metadata": {},
     "output_type": "execute_result"
    }
   ],
   "source": [
    "type(axes)"
   ]
  },
  {
   "cell_type": "code",
   "execution_count": 77,
   "id": "5bb07a6e",
   "metadata": {
    "ExecuteTime": {
     "end_time": "2023-05-22T08:10:33.184416Z",
     "start_time": "2023-05-22T08:10:33.169583Z"
    },
    "slideshow": {
     "slide_type": "fragment"
    }
   },
   "outputs": [
    {
     "data": {
      "text/plain": [
       "(2, 2)"
      ]
     },
     "execution_count": 77,
     "metadata": {},
     "output_type": "execute_result"
    }
   ],
   "source": [
    "axes.shape"
   ]
  },
  {
   "cell_type": "code",
   "execution_count": 78,
   "id": "eab310dd",
   "metadata": {
    "ExecuteTime": {
     "end_time": "2023-05-22T08:10:41.131286Z",
     "start_time": "2023-05-22T08:10:41.117946Z"
    },
    "slideshow": {
     "slide_type": "fragment"
    }
   },
   "outputs": [
    {
     "data": {
      "text/plain": [
       "matplotlib.axes._axes.Axes"
      ]
     },
     "execution_count": 78,
     "metadata": {},
     "output_type": "execute_result"
    }
   ],
   "source": [
    "type(axes[0, 0])"
   ]
  },
  {
   "cell_type": "markdown",
   "id": "538824f0",
   "metadata": {
    "slideshow": {
     "slide_type": "subslide"
    }
   },
   "source": [
    "We can plot on each of the axes indexing them the numpy way:"
   ]
  },
  {
   "cell_type": "code",
   "execution_count": 43,
   "id": "8c5d07b8",
   "metadata": {
    "scrolled": true
   },
   "outputs": [
    {
     "data": {
      "text/plain": [
       "<Axes: >"
      ]
     },
     "execution_count": 43,
     "metadata": {},
     "output_type": "execute_result"
    }
   ],
   "source": [
    "axes[0, 0]  # access one subplot from the grid. From here we can plot using plotting methods"
   ]
  },
  {
   "cell_type": "markdown",
   "id": "ea84cb25",
   "metadata": {},
   "source": [
    "So we first index the correct axis, and then we use its plotting method:"
   ]
  },
  {
   "cell_type": "code",
   "execution_count": 81,
   "id": "6fba4f65",
   "metadata": {
    "ExecuteTime": {
     "end_time": "2023-05-22T08:11:12.814664Z",
     "start_time": "2023-05-22T08:11:12.640339Z"
    },
    "slideshow": {
     "slide_type": "subslide"
    }
   },
   "outputs": [
    {
     "data": {
      "text/plain": [
       "[<matplotlib.lines.Line2D at 0x12be4ceb0>]"
      ]
     },
     "execution_count": 81,
     "metadata": {},
     "output_type": "execute_result"
    },
    {
     "data": {
      "image/png": "[encoded data removed]",
      "text/plain": [
       "<Figure size 600x400 with 4 Axes>"
      ]
     },
     "metadata": {},
     "output_type": "display_data"
    }
   ],
   "source": [
    "fig, axes = plt.subplots(2, 2, figsize=(6, 4))\n",
    "\n",
    "axes[1, 1].plot([1, 2, 2, 3])"
   ]
  },
  {
   "cell_type": "markdown",
   "id": "6f854609",
   "metadata": {
    "slideshow": {
     "slide_type": "subslide"
    }
   },
   "source": [
    "It is easy to iterate over multiple axes:"
   ]
  },
  {
   "cell_type": "code",
   "execution_count": 85,
   "id": "30ce5fa0",
   "metadata": {
    "ExecuteTime": {
     "end_time": "2023-05-22T08:15:17.238844Z",
     "start_time": "2023-05-22T08:15:17.016976Z"
    }
   },
   "outputs": [
    {
     "data": {
      "image/png": "[encoded data removed]",
      "text/plain": [
       "<Figure size 600x400 with 4 Axes>"
      ]
     },
     "metadata": {},
     "output_type": "display_data"
    }
   ],
   "source": [
    "fig, axes = plt.subplots(2, 2, figsize=(6, 4))\n",
    "x = np.arange(-5, 5, 0.1)\n",
    "\n",
    "# Double loop over rows and columns\n",
    "for col_idx  in range(2):\n",
    "    for row_idx in range(2):\n",
    "        current_axis = axes[row_idx, col_idx]  # current_axis = axes.flat[i]  # Select one axis\n",
    "        i = col_idx + row_idx*2\n",
    "        current_axis.plot(x, x**i)  # Plot on it\n",
    "        current_axis.set(title=f\"Power {i}\")  # Set title\n",
    "        \n",
    "## cleaner alternative to go through all plots in a single loop:\n",
    "for i in range(4):\n",
    "    current_axis = axes.flat[i]\n",
    "    ...\n",
    "    \n",
    "\n",
    "plt.tight_layout()  # separate plots better"
   ]
  },
  {
   "cell_type": "markdown",
   "id": "b0b94b5f",
   "metadata": {
    "slideshow": {
     "slide_type": "slide"
    }
   },
   "source": [
    "Practicals 1.4.2"
   ]
  }
 ],
 "metadata": {
  "celltoolbar": "Slideshow",
  "kernelspec": {
   "display_name": "course-env",
   "language": "python",
   "name": "course-env"
  },
  "language_info": {
   "codemirror_mode": {
    "name": "ipython",
    "version": 3
   },
   "file_extension": ".py",
   "mimetype": "text/x-python",
   "name": "python",
   "nbconvert_exporter": "python",
   "pygments_lexer": "ipython3",
   "version": "3.10.13"
  }
 },
 "nbformat": 4,
 "nbformat_minor": 5
}
