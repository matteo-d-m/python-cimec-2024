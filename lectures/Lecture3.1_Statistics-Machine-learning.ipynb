{
 "cells": [
  {
   "cell_type": "markdown",
   "id": "3ca811a3",
   "metadata": {
    "slideshow": {
     "slide_type": "slide"
    }
   },
   "source": [
    "# Python for (open) Neuroscience\n",
    "\n",
    "_Lecture 3.1_ - Introduction to Statistics and Machine learning in Pyhton\n",
    "\n",
    "Luigi Petrucco"
   ]
  },
  {
   "cell_type": "markdown",
   "id": "65898b1e",
   "metadata": {
    "slideshow": {
     "slide_type": "slide"
    }
   },
   "source": [
    "### Outlook"
   ]
  },
  {
   "cell_type": "markdown",
   "id": "781aaf41",
   "metadata": {
    "slideshow": {
     "slide_type": "fragment"
    }
   },
   "source": [
    "- This won't be a lecture on statistics! (I actually know very little)"
   ]
  },
  {
   "cell_type": "markdown",
   "id": "876ac10b",
   "metadata": {
    "slideshow": {
     "slide_type": "fragment"
    }
   },
   "source": [
    " - We will see the most common modules for statistics that you can find in Python"
   ]
  },
  {
   "cell_type": "markdown",
   "id": "3120a301",
   "metadata": {
    "slideshow": {
     "slide_type": "subslide"
    }
   },
   "source": [
    "### Descriptive statistics"
   ]
  },
  {
   "cell_type": "markdown",
   "id": "45ad1cce",
   "metadata": {
    "slideshow": {
     "slide_type": "subslide"
    }
   },
   "source": [
    "#### Mean, median"
   ]
  },
  {
   "cell_type": "code",
   "execution_count": 1,
   "id": "88b34c7a",
   "metadata": {
    "ExecuteTime": {
     "end_time": "2023-06-18T20:59:42.818865Z",
     "start_time": "2023-06-18T20:59:39.919435Z"
    }
   },
   "outputs": [
    {
     "name": "stdout",
     "output_type": "stream",
     "text": [
      "Mean: 0.01479001650256065\n",
      "Median: 0.006624148102372703\n"
     ]
    }
   ],
   "source": [
    "import numpy as np\n",
    "\n",
    "data = np.random.normal(0, 1, 1000)\n",
    "\n",
    "print('Mean: {}'.format(np.mean(data)))\n",
    "print('Median: {}'.format(np.median(data)))"
   ]
  },
  {
   "cell_type": "markdown",
   "id": "9a525db1",
   "metadata": {
    "slideshow": {
     "slide_type": "subslide"
    }
   },
   "source": [
    "#### Standard deviation, variance"
   ]
  },
  {
   "cell_type": "code",
   "execution_count": 2,
   "id": "b01d1174",
   "metadata": {},
   "outputs": [
    {
     "name": "stdout",
     "output_type": "stream",
     "text": [
      "Standard deviation: 1.0044072534135482\n",
      "Variance: 1.0088339307097478\n"
     ]
    }
   ],
   "source": [
    "print(f'Standard deviation: {np.std(data)}')\n",
    "print(f'Variance: {np.var(data)}')"
   ]
  },
  {
   "cell_type": "markdown",
   "id": "2411cd23",
   "metadata": {
    "slideshow": {
     "slide_type": "subslide"
    }
   },
   "source": [
    "#### Percentiles"
   ]
  },
  {
   "cell_type": "code",
   "execution_count": 3,
   "id": "6b8ee081",
   "metadata": {},
   "outputs": [
    {
     "name": "stdout",
     "output_type": "stream",
     "text": [
      " 95Percentile: 1.6546738835075292\n"
     ]
    }
   ],
   "source": [
    "print(f' 95Percentile: {np.percentile(data, 95)}')"
   ]
  },
  {
   "cell_type": "markdown",
   "id": "94f76a3b",
   "metadata": {
    "slideshow": {
     "slide_type": "subslide"
    }
   },
   "source": [
    "## Statistical tests"
   ]
  },
  {
   "cell_type": "markdown",
   "id": "aebba5fe",
   "metadata": {
    "slideshow": {
     "slide_type": "fragment"
    }
   },
   "source": [
    "The `scipy` module provides functions for pretty much any kind of classical statistics you might want to compute!"
   ]
  },
  {
   "cell_type": "code",
   "execution_count": 4,
   "id": "80654b1a",
   "metadata": {
    "slideshow": {
     "slide_type": "subslide"
    }
   },
   "outputs": [],
   "source": [
    "# In scipy we find many modules for scientific computing of all kinds.\n",
    "# The module for statistics is stats:\n",
    "\n",
    "import scipy.stats as stats"
   ]
  },
  {
   "cell_type": "markdown",
   "id": "b007b769",
   "metadata": {
    "slideshow": {
     "slide_type": "subslide"
    }
   },
   "source": [
    "### One-sample tests"
   ]
  },
  {
   "cell_type": "code",
   "execution_count": 5,
   "id": "59eb9830",
   "metadata": {},
   "outputs": [
    {
     "data": {
      "text/plain": [
       "TtestResult(statistic=32.23210486397264, pvalue=7.818807546564356e-157, df=999)"
      ]
     },
     "execution_count": 5,
     "metadata": {},
     "output_type": "execute_result"
    }
   ],
   "source": [
    "# One-sample t-test\n",
    "data = np.random.normal(1, 1, 1000)\n",
    "\n",
    "test_result = stats.ttest_1samp(data, 0)\n",
    "test_result"
   ]
  },
  {
   "cell_type": "code",
   "execution_count": 6,
   "id": "3c5146cd",
   "metadata": {
    "ExecuteTime": {
     "end_time": "2023-06-18T20:53:11.585968Z",
     "start_time": "2023-06-18T20:53:11.578919Z"
    }
   },
   "outputs": [
    {
     "data": {
      "text/plain": [
       "WilcoxonResult(statistic=37779.0, pvalue=1.1919966281829943e-119)"
      ]
     },
     "execution_count": 6,
     "metadata": {},
     "output_type": "execute_result"
    }
   ],
   "source": [
    "# One-sample Wilcoxon signed-rank test\n",
    "stats.wilcoxon(data)"
   ]
  },
  {
   "cell_type": "markdown",
   "id": "fea293f3",
   "metadata": {
    "slideshow": {
     "slide_type": "subslide"
    }
   },
   "source": [
    "### Two-sample t-test"
   ]
  },
  {
   "cell_type": "code",
   "execution_count": 7,
   "id": "fe1aa16c",
   "metadata": {},
   "outputs": [
    {
     "data": {
      "text/plain": [
       "TtestResult(statistic=22.366991554410053, pvalue=4.476670438419065e-99, df=1998.0)"
      ]
     },
     "execution_count": 7,
     "metadata": {},
     "output_type": "execute_result"
    }
   ],
   "source": [
    "data2 = np.random.normal(0, 1, 1000)\n",
    "\n",
    "stats.ttest_ind(data, data2)"
   ]
  },
  {
   "cell_type": "markdown",
   "id": "c9fe9e0b",
   "metadata": {
    "slideshow": {
     "slide_type": "subslide"
    }
   },
   "source": [
    "### Two-sample Wilcoxon rank-sum test"
   ]
  },
  {
   "cell_type": "code",
   "execution_count": 8,
   "id": "72f8a5fa",
   "metadata": {
    "ExecuteTime": {
     "end_time": "2023-06-18T20:58:18.093141Z",
     "start_time": "2023-06-18T20:58:18.089805Z"
    }
   },
   "outputs": [
    {
     "data": {
      "text/plain": [
       "RanksumsResult(statistic=20.031794559134493, pvalue=2.9098101052246493e-89)"
      ]
     },
     "execution_count": 8,
     "metadata": {},
     "output_type": "execute_result"
    }
   ],
   "source": [
    "#Two-sample Wilcoxon rank-sum test\n",
    "stats.ranksums(data, data2)"
   ]
  },
  {
   "cell_type": "markdown",
   "id": "a3c81119",
   "metadata": {
    "slideshow": {
     "slide_type": "subslide"
    }
   },
   "source": [
    "## Paired samples"
   ]
  },
  {
   "cell_type": "markdown",
   "id": "e77a3430",
   "metadata": {
    "slideshow": {
     "slide_type": "subslide"
    }
   },
   "source": [
    "### Paired t-test"
   ]
  },
  {
   "cell_type": "code",
   "execution_count": 9,
   "id": "5a39bc0f",
   "metadata": {},
   "outputs": [
    {
     "data": {
      "text/plain": [
       "TtestResult(statistic=21.856563154961762, pvalue=7.350345573146528e-87, df=999)"
      ]
     },
     "execution_count": 9,
     "metadata": {},
     "output_type": "execute_result"
    }
   ],
   "source": [
    "stats.ttest_rel(data, data2)"
   ]
  },
  {
   "cell_type": "markdown",
   "id": "0ade240c",
   "metadata": {
    "slideshow": {
     "slide_type": "subslide"
    }
   },
   "source": [
    "### Paired Wilcoxon signed-rank test"
   ]
  },
  {
   "cell_type": "code",
   "execution_count": 10,
   "id": "1b1256fd",
   "metadata": {},
   "outputs": [
    {
     "data": {
      "text/plain": [
       "WilcoxonResult(statistic=81227.0, pvalue=2.0018800860692385e-76)"
      ]
     },
     "execution_count": 10,
     "metadata": {},
     "output_type": "execute_result"
    }
   ],
   "source": [
    "stats.wilcoxon(data, data2)"
   ]
  },
  {
   "cell_type": "markdown",
   "id": "fdded046",
   "metadata": {
    "slideshow": {
     "slide_type": "subslide"
    }
   },
   "source": [
    "## Normality tests"
   ]
  },
  {
   "cell_type": "code",
   "execution_count": 11,
   "id": "c23da41b",
   "metadata": {
    "ExecuteTime": {
     "end_time": "2023-06-19T13:14:39.201670Z",
     "start_time": "2023-06-19T13:14:39.197504Z"
    }
   },
   "outputs": [
    {
     "data": {
      "text/plain": [
       "NormaltestResult(statistic=0.7264314966700741, pvalue=0.6954363780718796)"
      ]
     },
     "execution_count": 11,
     "metadata": {},
     "output_type": "execute_result"
    }
   ],
   "source": [
    "# Test normality of data\n",
    "data = np.random.normal(0, 1, 1000)\n",
    "stats.normaltest(data)"
   ]
  },
  {
   "cell_type": "markdown",
   "id": "c49bb175",
   "metadata": {
    "slideshow": {
     "slide_type": "subslide"
    }
   },
   "source": [
    "### QQ plots for normality tests\n",
    "\n",
    "The visualization to look at normality is the quantile-quantile plot.\n",
    "We can make QQ plots using `scipy.stats` and `matplotlib`:"
   ]
  },
  {
   "cell_type": "code",
   "execution_count": 12,
   "id": "98f9c454",
   "metadata": {
    "slideshow": {
     "slide_type": "subslide"
    }
   },
   "outputs": [
    {
     "data": {
      "image/png": "[encoded data removed]",
      "text/plain": [
       "<Figure size 350x350 with 1 Axes>"
      ]
     },
     "metadata": {},
     "output_type": "display_data"
    }
   ],
   "source": [
    "from matplotlib import pyplot as plt\n",
    "# Here we pass to the `plot` argument the plotting library we want to use:\n",
    "plt.figure(figsize=(3.5, 3.5))\n",
    "stats.probplot(data, dist=\"norm\", plot=plt)\n",
    "plt.show()"
   ]
  },
  {
   "cell_type": "markdown",
   "id": "b737a65a",
   "metadata": {
    "slideshow": {
     "slide_type": "subslide"
    }
   },
   "source": [
    "### One-way ANOVA"
   ]
  },
  {
   "cell_type": "code",
   "execution_count": 13,
   "id": "45aa57e1",
   "metadata": {},
   "outputs": [
    {
     "data": {
      "text/plain": [
       "F_onewayResult(statistic=314.4640596978148, pvalue=1.0602970179312877e-124)"
      ]
     },
     "execution_count": 13,
     "metadata": {},
     "output_type": "execute_result"
    }
   ],
   "source": [
    "data = np.random.normal(0, 1, 1000)\n",
    "data2 = np.random.normal(0, 1, 1000)\n",
    "data3 = np.random.normal(-1, 1, 1000)\n",
    "stats.f_oneway(data, data2, data3)"
   ]
  },
  {
   "cell_type": "markdown",
   "id": "2f0de319",
   "metadata": {
    "slideshow": {
     "slide_type": "subslide"
    }
   },
   "source": [
    "### Correlation"
   ]
  },
  {
   "cell_type": "code",
   "execution_count": 14,
   "id": "12dd34dc",
   "metadata": {
    "ExecuteTime": {
     "end_time": "2023-06-19T13:14:37.921156Z",
     "start_time": "2023-06-19T13:14:37.913687Z"
    }
   },
   "outputs": [
    {
     "data": {
      "text/plain": [
       "PearsonRResult(statistic=-0.029569753921717554, pvalue=0.35024588441018095)"
      ]
     },
     "execution_count": 14,
     "metadata": {},
     "output_type": "execute_result"
    },
    {
     "data": {
      "image/png": "[encoded data removed]",
      "text/plain": [
       "<Figure size 640x480 with 1 Axes>"
      ]
     },
     "metadata": {},
     "output_type": "display_data"
    }
   ],
   "source": [
    "from matplotlib import pyplot as plt\n",
    "data = np.random.normal(0, 1, 1000)\n",
    "data2 = np.random.normal(0, 1, 1000)\n",
    "\n",
    "plt.scatter(data, data2)\n",
    "stats.pearsonr(data, data2)"
   ]
  },
  {
   "cell_type": "code",
   "execution_count": 15,
   "id": "41c3ab4b",
   "metadata": {
    "slideshow": {
     "slide_type": "subslide"
    }
   },
   "outputs": [
    {
     "data": {
      "text/plain": [
       "PearsonRResult(statistic=0.7166553599105706, pvalue=2.283520761967301e-158)"
      ]
     },
     "execution_count": 15,
     "metadata": {},
     "output_type": "execute_result"
    },
    {
     "data": {
      "image/png": "[encoded data removed]",
      "text/plain": [
       "<Figure size 640x480 with 1 Axes>"
      ]
     },
     "metadata": {},
     "output_type": "display_data"
    }
   ],
   "source": [
    "data = np.random.normal(0, 1, 1000)\n",
    "data2 = data + np.random.normal(0, 1, 1000)\n",
    "\n",
    "plt.scatter(data, data2)\n",
    "stats.pearsonr(data, data2)"
   ]
  },
  {
   "cell_type": "markdown",
   "id": "ac7a30b7",
   "metadata": {
    "slideshow": {
     "slide_type": "subslide"
    }
   },
   "source": [
    "## Curve fitting"
   ]
  },
  {
   "cell_type": "markdown",
   "id": "d68417b9",
   "metadata": {},
   "source": [
    "### Linear regression"
   ]
  },
  {
   "cell_type": "markdown",
   "id": "9737a4a4",
   "metadata": {},
   "source": [
    "The `scipy.optimize` module offers the `curve_fit()` function to fit a given function to a set of datapoints.\n",
    "\n",
    "Example:"
   ]
  },
  {
   "cell_type": "code",
   "execution_count": 16,
   "id": "c4b47747",
   "metadata": {
    "slideshow": {
     "slide_type": "subslide"
    }
   },
   "outputs": [
    {
     "name": "stdout",
     "output_type": "stream",
     "text": [
      "LinregressResult(slope=1.025148313204406, intercept=-0.013750293142869551, rvalue=0.7166553599105704, pvalue=2.283520761967734e-158, stderr=0.03157985526394689, intercept_stderr=0.032178214464516144)\n"
     ]
    },
    {
     "data": {
      "image/png": "[encoded data removed]",
      "text/plain": [
       "<Figure size 640x480 with 1 Axes>"
      ]
     },
     "metadata": {},
     "output_type": "display_data"
    }
   ],
   "source": [
    "from scipy.stats import linregress\n",
    "\n",
    "fitted_model = linregress(x=data, y=data2)\n",
    "print(fitted_model)\n",
    "plt.scatter(data, data2, label='data')\n",
    "plt.plot(data, fitted_model.intercept + fitted_model.slope*data, color='r', label='fitted regression model')\n",
    "plt.legend()\n",
    "plt.show()"
   ]
  },
  {
   "cell_type": "markdown",
   "id": "aeb90972",
   "metadata": {
    "slideshow": {
     "slide_type": "subslide"
    }
   },
   "source": [
    "### Nonlinear regression"
   ]
  },
  {
   "cell_type": "markdown",
   "id": "6f1d8aae",
   "metadata": {},
   "source": [
    "Similar fitting procedures are available for nonlinear data with the more general function  `curve_fit()`:"
   ]
  },
  {
   "cell_type": "code",
   "execution_count": 17,
   "id": "3453517a",
   "metadata": {
    "ExecuteTime": {
     "end_time": "2023-06-19T13:14:47.317878Z",
     "start_time": "2023-06-19T13:14:47.312041Z"
    },
    "slideshow": {
     "slide_type": "subslide"
    }
   },
   "outputs": [
    {
     "data": {
      "text/plain": [
       "<matplotlib.collections.PathCollection at 0x127313670>"
      ]
     },
     "execution_count": 17,
     "metadata": {},
     "output_type": "execute_result"
    },
    {
     "data": {
      "image/png": "[encoded data removed]",
      "text/plain": [
       "<Figure size 300x300 with 1 Axes>"
      ]
     },
     "metadata": {},
     "output_type": "display_data"
    }
   ],
   "source": [
    "from scipy.optimize import curve_fit\n",
    "\n",
    "# Generate data\n",
    "x = np.linspace(0, 4, 50)\n",
    "noise = 0.2 * np.random.normal(size=len(x))\n",
    "ydata = 2.5 * np.exp(-1.3 * x) + 0.5 + noise\n",
    "\n",
    "# plot the data\n",
    "plt.figure(figsize=(3, 3))\n",
    "plt.scatter(x, ydata, label='data')"
   ]
  },
  {
   "cell_type": "code",
   "execution_count": 18,
   "id": "68241a2c",
   "metadata": {},
   "outputs": [],
   "source": [
    "# Define the function to fit:\n",
    "def func_to_fit(x, a, b, c):\n",
    "    return a * np.exp(-b * x) + c"
   ]
  },
  {
   "cell_type": "code",
   "execution_count": 19,
   "id": "e2018bcb",
   "metadata": {
    "slideshow": {
     "slide_type": "subslide"
    }
   },
   "outputs": [
    {
     "data": {
      "text/plain": [
       "array([2.44663598, 1.44180861, 0.57089036])"
      ]
     },
     "execution_count": 19,
     "metadata": {},
     "output_type": "execute_result"
    }
   ],
   "source": [
    "\n",
    "\n",
    "# Fit the data\n",
    "popt, pcov = curve_fit(func_to_fit, x, ydata)\n",
    "\n",
    "# retrieved parameters\n",
    "popt"
   ]
  },
  {
   "cell_type": "code",
   "execution_count": 20,
   "id": "642d69ce",
   "metadata": {
    "ExecuteTime": {
     "end_time": "2023-06-19T09:36:18.626966Z",
     "start_time": "2023-06-19T09:36:18.570215Z"
    },
    "slideshow": {
     "slide_type": "subslide"
    }
   },
   "outputs": [
    {
     "ename": "NameError",
     "evalue": "name 'func' is not defined",
     "output_type": "error",
     "traceback": [
      "\u001b[0;31m---------------------------------------------------------------------------\u001b[0m",
      "\u001b[0;31mNameError\u001b[0m                                 Traceback (most recent call last)",
      "Cell \u001b[0;32mIn[20], line 3\u001b[0m\n\u001b[1;32m      1\u001b[0m plt\u001b[38;5;241m.\u001b[39mfigure(figsize\u001b[38;5;241m=\u001b[39m(\u001b[38;5;241m3\u001b[39m, \u001b[38;5;241m3\u001b[39m))\n\u001b[1;32m      2\u001b[0m plt\u001b[38;5;241m.\u001b[39mscatter(x, ydata, label\u001b[38;5;241m=\u001b[39m\u001b[38;5;124m'\u001b[39m\u001b[38;5;124mdata\u001b[39m\u001b[38;5;124m'\u001b[39m)\n\u001b[0;32m----> 3\u001b[0m plt\u001b[38;5;241m.\u001b[39mplot(x, \u001b[43mfunc\u001b[49m(x, popt[\u001b[38;5;241m0\u001b[39m], popt[\u001b[38;5;241m1\u001b[39m], popt[\u001b[38;5;241m2\u001b[39m]), c\u001b[38;5;241m=\u001b[39m\u001b[38;5;124m\"\u001b[39m\u001b[38;5;124mk\u001b[39m\u001b[38;5;124m\"\u001b[39m, label\u001b[38;5;241m=\u001b[39m\u001b[38;5;124m'\u001b[39m\u001b[38;5;124mfit\u001b[39m\u001b[38;5;124m'\u001b[39m)\n",
      "\u001b[0;31mNameError\u001b[0m: name 'func' is not defined"
     ]
    },
    {
     "data": {
      "image/png": "[encoded data removed]",
      "text/plain": [
       "<Figure size 300x300 with 1 Axes>"
      ]
     },
     "metadata": {},
     "output_type": "display_data"
    }
   ],
   "source": [
    "plt.figure(figsize=(3, 3))\n",
    "plt.scatter(x, ydata, label='data')\n",
    "plt.plot(x, func(x, popt[0], popt[1], popt[2]), c=\"k\", label='fit')"
   ]
  },
  {
   "cell_type": "code",
   "execution_count": null,
   "id": "9379604b",
   "metadata": {},
   "outputs": [],
   "source": [
    "# The pcov returned value gives us estimates over the uncertainty of the parameters\n",
    "# that were fit:\n",
    "pcov"
   ]
  },
  {
   "cell_type": "markdown",
   "id": "1e7ce212",
   "metadata": {
    "slideshow": {
     "slide_type": "subslide"
    }
   },
   "source": [
    "(Practicals 3.2.0)"
   ]
  },
  {
   "cell_type": "markdown",
   "id": "abd0b214",
   "metadata": {
    "slideshow": {
     "slide_type": "subslide"
    }
   },
   "source": [
    "## More advanced statistics using statsmodels"
   ]
  },
  {
   "cell_type": "markdown",
   "id": "d0be1a30",
   "metadata": {},
   "source": [
    "The `statsmodels` module provides a more complete set of statistical tools, including:\n",
    "- Linear models\n",
    "- Generalized linear models\n",
    "- Multivariate statistics\n",
    "- ..."
   ]
  },
  {
   "cell_type": "markdown",
   "id": "2d6dab78",
   "metadata": {
    "slideshow": {
     "slide_type": "subslide"
    }
   },
   "source": [
    "**Disclaimer**\n",
    "\n",
    "Python is generally considered less powerful than R when it comes to advanced statistical models. I do not know much statistics, so I take the experts' opinion on this point!"
   ]
  },
  {
   "cell_type": "markdown",
   "id": "cc9c1e63",
   "metadata": {
    "slideshow": {
     "slide_type": "fragment"
    }
   },
   "source": [
    "I've also never used `statsmodels`."
   ]
  },
  {
   "cell_type": "markdown",
   "id": "94461bc0",
   "metadata": {
    "slideshow": {
     "slide_type": "subslide"
    }
   },
   "source": [
    "### Linear models"
   ]
  },
  {
   "cell_type": "code",
   "execution_count": null,
   "id": "f09c3eb9",
   "metadata": {
    "ExecuteTime": {
     "end_time": "2023-06-19T14:14:53.539300Z",
     "start_time": "2023-06-19T14:14:52.757283Z"
    }
   },
   "outputs": [],
   "source": [
    "# From the statsmodels tutorial:\n",
    "import statsmodels.api as sm  # requires pip/conda install statsmodels\n",
    "import statsmodels.formula.api as smf\n",
    "\n",
    "data = sm.datasets.get_rdataset('Guerry', 'HistData').data\n",
    "data = data[['Lottery', 'Literacy', 'Wealth', 'Region']].dropna()\n",
    "data.head()"
   ]
  },
  {
   "cell_type": "code",
   "execution_count": null,
   "id": "828a03f9",
   "metadata": {
    "ExecuteTime": {
     "end_time": "2023-06-19T14:14:54.962903Z",
     "start_time": "2023-06-19T14:14:54.949507Z"
    },
    "slideshow": {
     "slide_type": "subslide"
    }
   },
   "outputs": [],
   "source": [
    "model = smf.ols('Lottery ~ Literacy + Wealth + Region', data=data)\n",
    "results = model.fit()\n",
    "\n",
    "print(results.summary())"
   ]
  },
  {
   "cell_type": "markdown",
   "id": "b54c2fec",
   "metadata": {
    "slideshow": {
     "slide_type": "subslide"
    }
   },
   "source": [
    "# Machine learning: `scikit-learn`"
   ]
  },
  {
   "cell_type": "markdown",
   "id": "508bb5ba",
   "metadata": {},
   "source": [
    "`scikit-learn` is the library for machine learning pipelines. It includes functions/classes for: \n",
    "- data preprocessing (normalization, etc.)\n",
    "- dataset splitting (iterations over train/test splits, etc.)\n",
    "- dimensionality reduction\n",
    "- clustering / (multi) linear regression\n",
    "- More advanced methods: decision tree forests, support-vector machines..."
   ]
  },
  {
   "cell_type": "code",
   "execution_count": null,
   "id": "1c303cc6",
   "metadata": {},
   "outputs": [],
   "source": [
    "# requires pip/conda install scikit-learn\n",
    "from sklearn import preprocessing"
   ]
  },
  {
   "cell_type": "markdown",
   "id": "322e79e9",
   "metadata": {
    "slideshow": {
     "slide_type": "subslide"
    }
   },
   "source": [
    "## Data preprocessing\n",
    "\n",
    "The most common data preprocessing tool is a scaler: an object that can be used to \n",
    "consistently scale data using consistent parameters."
   ]
  },
  {
   "cell_type": "code",
   "execution_count": null,
   "id": "fff498bf",
   "metadata": {
    "ExecuteTime": {
     "end_time": "2023-06-19T11:59:08.992931Z",
     "start_time": "2023-06-19T11:59:08.987195Z"
    }
   },
   "outputs": [],
   "source": [
    "import numpy as np \n",
    "X_train = np.array([[ 3.,   0.,   0.],\n",
    "                    [ 1., -1.,  2.],\n",
    "                    [ 2.,  0.,  0.],\n",
    "                    [ 0.,  1., -1.]])\n",
    "\n",
    "scaler = preprocessing.StandardScaler()\n",
    "scaler.fit(X_train)"
   ]
  },
  {
   "cell_type": "code",
   "execution_count": null,
   "id": "dca8345d",
   "metadata": {},
   "outputs": [],
   "source": [
    "print(\"Data means (one per column): \", scaler.mean_)"
   ]
  },
  {
   "cell_type": "code",
   "execution_count": null,
   "id": "5f401b20",
   "metadata": {},
   "outputs": [],
   "source": [
    "print(\"Data std (one per column): \", scaler.var_)"
   ]
  },
  {
   "cell_type": "code",
   "execution_count": null,
   "id": "71e20248",
   "metadata": {
    "ExecuteTime": {
     "end_time": "2023-06-19T09:46:59.165786Z",
     "start_time": "2023-06-19T09:46:59.161392Z"
    }
   },
   "outputs": [],
   "source": [
    "X_scaled = scaler.transform(X_train)\n",
    "X_scaled"
   ]
  },
  {
   "cell_type": "markdown",
   "id": "679bcf76",
   "metadata": {},
   "source": [
    "There are also other scalers for [min-max normalization](https://en.wikipedia.org/wiki/Feature_scaling#Rescaling_(min-max_normalization)) (`MinMaxScaler`), etc."
   ]
  },
  {
   "cell_type": "markdown",
   "id": "6943a5bd",
   "metadata": {
    "slideshow": {
     "slide_type": "subslide"
    }
   },
   "source": [
    "# Dimensionality reduction"
   ]
  },
  {
   "cell_type": "markdown",
   "id": "876760ec",
   "metadata": {
    "slideshow": {
     "slide_type": "subslide"
    }
   },
   "source": [
    "### Principal component analysis\n",
    "\n",
    "Principal component analysis is implemented in the same object-oriented fashon:"
   ]
  },
  {
   "cell_type": "code",
   "execution_count": null,
   "id": "08fc3f35",
   "metadata": {
    "ExecuteTime": {
     "end_time": "2023-06-19T12:31:46.425109Z",
     "start_time": "2023-06-19T12:31:45.810155Z"
    },
    "slideshow": {
     "slide_type": "subslide"
    }
   },
   "outputs": [],
   "source": [
    "# A simple 2D dataset:\n",
    "x = np.random.randn(100)\n",
    "X = np.stack([x, x*1+np.random.randn(100)*0.5]).T\n",
    "\n",
    "plt.figure()\n",
    "plt.scatter(X[:, 0], X[:, 1])"
   ]
  },
  {
   "cell_type": "code",
   "execution_count": null,
   "id": "4f3ec9c6",
   "metadata": {},
   "outputs": [],
   "source": [
    "np.std(X, 0)"
   ]
  },
  {
   "cell_type": "markdown",
   "id": "2bb005dd",
   "metadata": {
    "slideshow": {
     "slide_type": "subslide"
    }
   },
   "source": [
    "To find principal components, we use the PCA class to create a PCA decomposition object:"
   ]
  },
  {
   "cell_type": "code",
   "execution_count": null,
   "id": "4cda52cb",
   "metadata": {
    "ExecuteTime": {
     "end_time": "2023-06-19T12:31:51.493614Z",
     "start_time": "2023-06-19T12:31:51.489213Z"
    }
   },
   "outputs": [],
   "source": [
    "from sklearn.decomposition import PCA\n",
    "\n",
    "pca = PCA(n_components=2)  # initialize a pca decomposition object from PCA class\n",
    "\n",
    "# Before PCA we always have to normalize our data;\n",
    "X = preprocessing.StandardScaler().fit_transform(X)\n",
    "\n",
    "pca.fit(X)  # fit it calling a method\n",
    "print(pca.explained_variance_ratio_)"
   ]
  },
  {
   "cell_type": "code",
   "execution_count": null,
   "id": "842cd8af",
   "metadata": {
    "ExecuteTime": {
     "end_time": "2023-06-19T12:33:50.677056Z",
     "start_time": "2023-06-19T12:33:50.623536Z"
    },
    "slideshow": {
     "slide_type": "subslide"
    }
   },
   "outputs": [],
   "source": [
    "plt.figure(figsize=(3, 3)  )\n",
    "plt.scatter(X[:, 0], X[:, 1])\n",
    "plt.plot([0, pca.components_[0, 0]], [0, pca.components_[0, 1]], 'r')\n",
    "plt.plot([0, pca.components_[1, 0]], [0, pca.components_[1, 1]], 'k')"
   ]
  },
  {
   "cell_type": "markdown",
   "id": "cb5463a8",
   "metadata": {
    "slideshow": {
     "slide_type": "subslide"
    }
   },
   "source": [
    "To visualize the data in the new PCA space:"
   ]
  },
  {
   "cell_type": "code",
   "execution_count": null,
   "id": "d094c61c",
   "metadata": {
    "ExecuteTime": {
     "end_time": "2023-06-19T12:32:47.217685Z",
     "start_time": "2023-06-19T12:32:47.149503Z"
    },
    "slideshow": {
     "slide_type": "-"
    }
   },
   "outputs": [],
   "source": [
    "transformed = pca.transform(X)\n",
    "\n",
    "plt.figure(figsize=(3, 3))\n",
    "plt.scatter(transformed[:, 0], transformed[:, 1])\n",
    "plt.axis(\"equal\")"
   ]
  },
  {
   "cell_type": "markdown",
   "id": "d6c832f2",
   "metadata": {
    "slideshow": {
     "slide_type": "subslide"
    }
   },
   "source": [
    "## Data splitting with `scikit-learn`"
   ]
  },
  {
   "cell_type": "markdown",
   "id": "c4b752a5",
   "metadata": {},
   "source": [
    "There are smart ways of splitting data into training and test sets:"
   ]
  },
  {
   "cell_type": "code",
   "execution_count": null,
   "id": "39306cbc",
   "metadata": {
    "ExecuteTime": {
     "end_time": "2023-06-19T14:12:19.131820Z",
     "start_time": "2023-06-19T14:12:19.105718Z"
    }
   },
   "outputs": [],
   "source": [
    "from sklearn.datasets import make_blobs\n",
    "X, y = make_blobs(n_samples=50000, centers=5, n_features=5, random_state=3) # create an example dataset\n",
    "plt.figure(figsize=(3, 3))\n",
    "plt.scatter(X[:, 0], X[:, 1], c=y, alpha=0.1, s=2)\n",
    "plt.show()"
   ]
  },
  {
   "cell_type": "markdown",
   "id": "2c49013a",
   "metadata": {
    "slideshow": {
     "slide_type": "subslide"
    }
   },
   "source": [
    "The good way of doing clustering, regression, etc. is to always fit the parameters on a fraction of the data, and test their goodness on the other to avoid overfitting.\n",
    "\n",
    "We can do it using the `train_test_split()` function:"
   ]
  },
  {
   "cell_type": "code",
   "execution_count": null,
   "id": "7106f40c",
   "metadata": {},
   "outputs": [],
   "source": [
    "from sklearn.model_selection import train_test_split\n",
    "\n",
    "X_train, X_test, Y_train, Y_test = train_test_split(X, y, \n",
    "                                                    test_size=0.1,  # fraction for testing\n",
    "                                                    stratify=y, \n",
    "                                                    random_state=50)"
   ]
  },
  {
   "cell_type": "code",
   "execution_count": null,
   "id": "b479cdba",
   "metadata": {
    "ExecuteTime": {
     "end_time": "2023-06-19T14:12:31.852278Z",
     "start_time": "2023-06-19T14:12:31.085759Z"
    },
    "slideshow": {
     "slide_type": "subslide"
    }
   },
   "outputs": [],
   "source": [
    "f, axs = plt.subplots(1, 2, figsize=(8, 3.5))\n",
    "axs[0].scatter(X_train[:, 0], X_train[:, 1], c=Y_train, alpha=0.1, s=2)\n",
    "axs[1].scatter(X_test[:, 0], X_test[:, 1], c=Y_test, alpha=0.1, s=2)\n",
    "\n",
    "axs[0].set_title(\"Train data\")\n",
    "axs[1].set_title(\"Test data\")\n",
    "plt.show()"
   ]
  },
  {
   "cell_type": "markdown",
   "id": "e69944ce",
   "metadata": {
    "slideshow": {
     "slide_type": "subslide"
    }
   },
   "source": [
    "There are also tools to directly loop over multiple splits of the data to perform multiple iterations of our clustering/regression procedure:\n",
    "\n"
   ]
  },
  {
   "cell_type": "code",
   "execution_count": null,
   "id": "cdf867eb",
   "metadata": {
    "ExecuteTime": {
     "end_time": "2023-06-19T14:11:15.384401Z",
     "start_time": "2023-06-19T14:11:15.373593Z"
    }
   },
   "outputs": [],
   "source": [
    "from sklearn.model_selection import KFold\n",
    "\n",
    "X = np.array([[1, 2], [3, 4], [1, 2], [3, 4], [0, 2], [1, 2], [5, 2], [0, 1]])\n",
    "\n",
    "kf = KFold(n_splits=4)\n",
    "kf.get_n_splits(X)\n",
    "\n",
    "for train_index, test_index in kf.split(X):\n",
    "    print(\"train data :\", X[train_index, :], \"test data:\", X[test_index, :])"
   ]
  },
  {
   "cell_type": "markdown",
   "id": "05117e1b",
   "metadata": {
    "slideshow": {
     "slide_type": "subslide"
    }
   },
   "source": [
    "# Data clustering"
   ]
  },
  {
   "cell_type": "code",
   "execution_count": null,
   "id": "85d99aaf",
   "metadata": {
    "ExecuteTime": {
     "end_time": "2023-06-19T14:26:55.915745Z",
     "start_time": "2023-06-19T14:26:55.905790Z"
    }
   },
   "outputs": [],
   "source": [
    "import numpy as np\n",
    "\n",
    "# Create clustered data\n",
    "X, y = make_blobs(n_samples=50000, centers=4, cluster_std=2,\n",
    "                  n_features=2, random_state=10)  # Create clustered data\n"
   ]
  },
  {
   "cell_type": "code",
   "execution_count": null,
   "id": "35cda88b",
   "metadata": {
    "ExecuteTime": {
     "end_time": "2023-06-19T14:26:57.633229Z",
     "start_time": "2023-06-19T14:26:56.607981Z"
    },
    "slideshow": {
     "slide_type": "subslide"
    }
   },
   "outputs": [],
   "source": [
    "plt.figure(figsize=(3, 3))\n",
    "plt.scatter(X[:, 0], X[:, 1], c=y, alpha=0.5, s=2)"
   ]
  },
  {
   "cell_type": "markdown",
   "id": "65f23530",
   "metadata": {},
   "source": [
    "Here we implement K-Means clustering using the `KMeans` class from `sklearn.cluster`:"
   ]
  },
  {
   "cell_type": "code",
   "execution_count": null,
   "id": "3772625a",
   "metadata": {
    "ExecuteTime": {
     "end_time": "2023-06-19T14:27:00.316623Z",
     "start_time": "2023-06-19T14:26:59.985178Z"
    },
    "slideshow": {
     "slide_type": "subslide"
    }
   },
   "outputs": [],
   "source": [
    "from sklearn.cluster import KMeans\n",
    "\n",
    "# Split data in test and train:\n",
    "X_train, X_test, Y_train, Y_test = train_test_split(X, y, random_state=50)\n",
    "\n",
    "kmeans = KMeans(init=\"k-means++\", n_clusters=4, n_init=10, random_state=4)\n",
    "kmeans.fit(X_train)  # fit the cluster classifier on train data\n",
    "\n",
    "# Use the fit model to predict new data:\n",
    "Y_predicted = kmeans.predict(X_test)"
   ]
  },
  {
   "cell_type": "code",
   "execution_count": null,
   "id": "3d3d30e9",
   "metadata": {
    "ExecuteTime": {
     "end_time": "2023-06-19T14:27:34.381654Z",
     "start_time": "2023-06-19T14:27:34.098058Z"
    },
    "slideshow": {
     "slide_type": "subslide"
    }
   },
   "outputs": [],
   "source": [
    "f, axs = plt.subplots(1,2,figsize=(6, 3))\n",
    "\n",
    "axs[0].scatter(X_test[:, 0], X_test[:, 1], c=Y_test, alpha=0.5, s=2)\n",
    "axs[0].set_title(\"Actual test clusters:\")\n",
    "\n",
    "axs[1].scatter(X_test[:, 0], X_test[:, 1], c=Y_predicted, alpha=0.5, s=2)\n",
    "axs[1].set_title(\"Predicted test clusters:\")"
   ]
  },
  {
   "cell_type": "markdown",
   "id": "8aa5dec6",
   "metadata": {
    "slideshow": {
     "slide_type": "subslide"
    }
   },
   "source": [
    "# Measuring accuracy\n",
    "\n",
    "`sklearn` offers also many tools to measure the accuracy of our regression and clustering.\n",
    "In this case, a suitable visualization of the goodness of our method is the\n",
    "confusion matrix, that shows how many data points have been clustered wrongly"
   ]
  },
  {
   "cell_type": "code",
   "execution_count": null,
   "id": "286bddcd",
   "metadata": {
    "ExecuteTime": {
     "end_time": "2023-06-19T14:28:13.555499Z",
     "start_time": "2023-06-19T14:28:13.543835Z"
    }
   },
   "outputs": [],
   "source": [
    "from sklearn.metrics import confusion_matrix\n",
    "conf_matrix = confusion_matrix(Y_test, Y_predicted)\n",
    "\n",
    "f, ax = plt.subplots(figsize=(2,2))\n",
    "im = ax.imshow(conf_matrix)\n",
    "ax.set(xlabel=\"Predicted cluster\", ylabel=\"Actual cluster\")\n",
    "plt.colorbar(im, label=\"count\")"
   ]
  },
  {
   "cell_type": "markdown",
   "id": "a55ec8c8",
   "metadata": {
    "ExecuteTime": {
     "end_time": "2023-06-19T14:28:16.362796Z",
     "start_time": "2023-06-19T14:28:16.328598Z"
    }
   },
   "source": [
    "(Note: sometimes we might have to match cluster IDs before computing the confusion matrix) **(MATTEO: I think this is worth an explanation)**"
   ]
  },
  {
   "cell_type": "markdown",
   "id": "3fb191e8",
   "metadata": {},
   "source": [
    "(Practicals 3.2.1)"
   ]
  }
 ],
 "metadata": {
  "celltoolbar": "Slideshow",
  "kernelspec": {
   "display_name": "course-env",
   "language": "python",
   "name": "course-env"
  },
  "language_info": {
   "codemirror_mode": {
    "name": "ipython",
    "version": 3
   },
   "file_extension": ".py",
   "mimetype": "text/x-python",
   "name": "python",
   "nbconvert_exporter": "python",
   "pygments_lexer": "ipython3",
   "version": "3.10.13"
  }
 },
 "nbformat": 4,
 "nbformat_minor": 5
}
