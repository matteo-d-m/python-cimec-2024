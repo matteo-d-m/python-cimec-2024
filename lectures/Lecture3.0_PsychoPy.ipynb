{
 "cells": [
  {
   "cell_type": "markdown",
   "id": "2a6d21bd",
   "metadata": {
    "slideshow": {
     "slide_type": "slide"
    }
   },
   "source": [
    "# Python for (open) Neuroscience\n",
    "\n",
    "_Lecture 3.0_ - PsychoPy\n",
    "\n",
    "Matteo De Matola\n",
    "\n",
    "Luigi Petrucco\n",
    "\n",
    "[![Open In Colab](https://colab.research.google.com/assets/colab-badge.svg)](https://colab.research.google.com/github/vigji/python-cimec/blob/main/lectures/Lecture3.0_PsychoPy.ipynb)"
   ]
  },
  {
   "cell_type": "markdown",
   "id": "09e28fd8",
   "metadata": {
    "slideshow": {
     "slide_type": "slide"
    }
   },
   "source": [
    "## [PsychoPy](https://psychopy.org/) is a Python library to program psychological experiments.  \n",
    "\n",
    "![PsychoPy logo](https://psychopy.org/_static/Psychopy%20Logotext.png)"
   ]
  },
  {
   "cell_type": "markdown",
   "id": "3113774d",
   "metadata": {
    "slideshow": {
     "slide_type": "slide"
    }
   },
   "source": [
    "Like many Python libraries, PsychoPy is:\n",
    "- Free\n",
    "- Open source\n",
    "- The result of a large-scale collaborative effort"
   ]
  },
  {
   "cell_type": "markdown",
   "id": "70f22cba",
   "metadata": {
    "slideshow": {
     "slide_type": "fragment"
    }
   },
   "source": [
    "If you use PsychoPy in published work, remember to cite the authors:\n",
    "\n",
    "[Peirce, J., Gray, J. R., Simpson, S., MacAskill, M., Höchenberger, R., Sogo, H., ... & Lindeløv, J. K. (2019). PsychoPy2: Experiments in behavior made easy. Behavior Research Methods, 51, 195-203](https://link.springer.com/article/10.3758/s13428-018-01193-y)\n",
    "\n",
    "The more we reward open-source efforts, the more we free research from market rules."
   ]
  },
  {
   "cell_type": "markdown",
   "id": "2b1eded6",
   "metadata": {
    "slideshow": {
     "slide_type": "slide"
    }
   },
   "source": [
    "On to the lecture!"
   ]
  },
  {
   "cell_type": "markdown",
   "id": "d89e18a0",
   "metadata": {
    "slideshow": {
     "slide_type": "slide"
    }
   },
   "source": [
    "PsychoPy contains functions and classes to:\n",
    "- Generate visual stimuli"
   ]
  },
  {
   "cell_type": "markdown",
   "id": "085a8903",
   "metadata": {
    "slideshow": {
     "slide_type": "fragment"
    }
   },
   "source": [
    "- Generate auditory stimuli"
   ]
  },
  {
   "cell_type": "markdown",
   "id": "b0119678",
   "metadata": {
    "slideshow": {
     "slide_type": "fragment"
    }
   },
   "source": [
    "- Collect responses from subjects "
   ]
  },
  {
   "cell_type": "markdown",
   "id": "8fbf99d2",
   "metadata": {
    "slideshow": {
     "slide_type": "fragment"
    }
   },
   "source": [
    "- Time events"
   ]
  },
  {
   "cell_type": "markdown",
   "id": "0326cf07",
   "metadata": {
    "slideshow": {
     "slide_type": "fragment"
    }
   },
   "source": [
    "- Interact with external hardware, including:\n",
    "    - Keyboards\n",
    "    - Response boxes\n",
    "    - Cameras\n",
    "    - Eye tracking devices\n",
    "    - Neuroimaging systems"
   ]
  },
  {
   "cell_type": "markdown",
   "id": "50fd0845",
   "metadata": {
    "slideshow": {
     "slide_type": "slide"
    }
   },
   "source": [
    "Most psychological / neuroscientific research involves a person watching things on a screen and pressing buttons during neuroimaging."
   ]
  },
  {
   "cell_type": "markdown",
   "id": "8e78e56f",
   "metadata": {
    "slideshow": {
     "slide_type": "fragment"
    }
   },
   "source": [
    "That's also what my research involves (at least, in part). "
   ]
  },
  {
   "cell_type": "markdown",
   "id": "56644506",
   "metadata": {
    "slideshow": {
     "slide_type": "fragment"
    }
   },
   "source": [
    "Therefore, this lecture will focus on:\n",
    "- Generating and displaying visual stimuli\n",
    "- Interacting with keyboards and EEG systems"
   ]
  },
  {
   "cell_type": "markdown",
   "id": "a4e624e4",
   "metadata": {
    "slideshow": {
     "slide_type": "fragment"
    }
   },
   "source": [
    "However, all concepts can be transferred to other kinds of stimuli and research settings."
   ]
  },
  {
   "cell_type": "markdown",
   "id": "7ac29293",
   "metadata": {
    "slideshow": {
     "slide_type": "slide"
    }
   },
   "source": [
    "Try to think:\n",
    "- \"Ok, that's how PsychoPy represents a stimulus\"\n",
    "- \"Ok, that's how PsychoPy loops over experimental trials\"\n",
    "\n",
    "Instead of:\n",
    "- \"Aw, that's just how you generate a _visual_ stimulus\"\n",
    "- \"Aw, that's just how you loop over experimental trials in an _EEG_ experiment\""
   ]
  },
  {
   "cell_type": "markdown",
   "id": "a444e717",
   "metadata": {
    "slideshow": {
     "slide_type": "slide"
    }
   },
   "source": [
    "Most neuroscientific research involves a person watching things on a screen and pressing buttons during neuroimaging."
   ]
  },
  {
   "cell_type": "markdown",
   "id": "3e2b9dc1",
   "metadata": {
    "slideshow": {
     "slide_type": "fragment"
    }
   },
   "source": [
    "Therefore, we need code to:"
   ]
  },
  {
   "cell_type": "markdown",
   "id": "072442c5",
   "metadata": {
    "slideshow": {
     "slide_type": "fragment"
    }
   },
   "source": [
    "- Generate visual stimuli (the things)"
   ]
  },
  {
   "cell_type": "markdown",
   "id": "f543fd7e",
   "metadata": {
    "slideshow": {
     "slide_type": "fragment"
    }
   },
   "source": [
    "- Represent the screen and interact with it"
   ]
  },
  {
   "cell_type": "markdown",
   "id": "e6736bd1",
   "metadata": {
    "slideshow": {
     "slide_type": "fragment"
    }
   },
   "source": [
    "- Present stimuli with the right timing"
   ]
  },
  {
   "cell_type": "markdown",
   "id": "ceea2201",
   "metadata": {
    "slideshow": {
     "slide_type": "fragment"
    }
   },
   "source": [
    "- Represent different experimental conditions\n",
    "    - Their balance\n",
    "    - Their order"
   ]
  },
  {
   "cell_type": "markdown",
   "id": "fffca8a0",
   "metadata": {
    "slideshow": {
     "slide_type": "fragment"
    }
   },
   "source": [
    "- Represent buttons and encode buttonpresses"
   ]
  },
  {
   "cell_type": "markdown",
   "id": "70addb1c",
   "metadata": {
    "slideshow": {
     "slide_type": "fragment"
    }
   },
   "source": [
    "- Represent the neuroimaging system and interact with it"
   ]
  },
  {
   "cell_type": "markdown",
   "id": "84a7aa63",
   "metadata": {
    "slideshow": {
     "slide_type": "slide"
    }
   },
   "source": [
    "### Step 1: Generate visual stimuli"
   ]
  },
  {
   "cell_type": "markdown",
   "id": "a2f6f8b7",
   "metadata": {
    "slideshow": {
     "slide_type": "slide"
    }
   },
   "source": [
    "- The `visual` module"
   ]
  },
  {
   "cell_type": "markdown",
   "id": "23fd3e58",
   "metadata": {
    "slideshow": {
     "slide_type": "fragment"
    }
   },
   "source": [
    "Contains classes and functions to:"
   ]
  },
  {
   "cell_type": "markdown",
   "id": "d1f36268",
   "metadata": {
    "slideshow": {
     "slide_type": "fragment"
    }
   },
   "source": [
    "- Draw a variety of pre-set stimuli \n",
    "    - `ShapeStim`\n",
    "        - `Rect`\n",
    "        - `Circle`\n",
    "        - `Polygon`\n",
    "        - `Line`\n",
    "        - `Pie`"
   ]
  },
  {
   "cell_type": "markdown",
   "id": "03dc7724",
   "metadata": {
    "slideshow": {
     "slide_type": "fragment"
    }
   },
   "source": [
    "- Display images and draw patterns\n",
    "    - `SimpleImageStim`\n",
    "    - `GratingStim`\n",
    "    - etc."
   ]
  },
  {
   "cell_type": "markdown",
   "id": "0e16ac25",
   "metadata": {
    "slideshow": {
     "slide_type": "fragment"
    }
   },
   "source": [
    "Go [here](https://psychopy.org/api/visual/index.html) for the full list of options and the associated documentation."
   ]
  },
  {
   "cell_type": "markdown",
   "id": "93c2a010",
   "metadata": {
    "slideshow": {
     "slide_type": "slide"
    }
   },
   "source": [
    "### Step 2: Represent the screen and interact with it"
   ]
  },
  {
   "cell_type": "markdown",
   "id": "9cf374e6",
   "metadata": {
    "slideshow": {
     "slide_type": "slide"
    }
   },
   "source": [
    "Stimuli are drawn on a specific _window_. This window can be as large as the screen, or smaller.  \n",
    "- The `visual` module\n",
    "    - The `Window` class"
   ]
  },
  {
   "cell_type": "markdown",
   "id": "95114bcb",
   "metadata": {
    "slideshow": {
     "slide_type": "fragment"
    }
   },
   "source": [
    "Opening a window is as simple as:"
   ]
  },
  {
   "cell_type": "code",
   "execution_count": null,
   "id": "201cad18",
   "metadata": {
    "slideshow": {
     "slide_type": "fragment"
    }
   },
   "outputs": [],
   "source": [
    "from psychopy import visual\n",
    "\n",
    "window = visual.Window()"
   ]
  },
  {
   "cell_type": "markdown",
   "id": "ac426711",
   "metadata": {
    "slideshow": {
     "slide_type": "slide"
    }
   },
   "source": [
    "`Window` objects represent the canvas where you draw your stimuli.   "
   ]
  },
  {
   "cell_type": "markdown",
   "id": "8305960b",
   "metadata": {
    "slideshow": {
     "slide_type": "fragment"
    }
   },
   "source": [
    "But that canvas cannot exist without some hardware to support it. That hardware is your monitor (or _screen_)."
   ]
  },
  {
   "cell_type": "markdown",
   "id": "20c9b349",
   "metadata": {
    "slideshow": {
     "slide_type": "fragment"
    }
   },
   "source": [
    "Different monitors have different physical properties:\n",
    "- Width\n",
    "- Pixel resolution\n",
    "- ...\n",
    "\n",
    "... And can be used in different ways:\n",
    "- Distance from screen\n",
    "    - Vital if your stimuli are in [degrees of visual angle (°VA)](https://en.wikipedia.org/wiki/Visual_angle)"
   ]
  },
  {
   "cell_type": "markdown",
   "id": "b3c77447",
   "metadata": {
    "slideshow": {
     "slide_type": "slide"
    }
   },
   "source": [
    "Specify the physical properties of your monitor, or the `Window` will be initialised with default settings that might be suboptimal for you:\n",
    "- The `monitors` module\n",
    "    - The `Monitor` class"
   ]
  },
  {
   "cell_type": "code",
   "execution_count": null,
   "id": "f1c3547f",
   "metadata": {
    "slideshow": {
     "slide_type": "fragment"
    }
   },
   "outputs": [],
   "source": [
    "from psychopy import monitors\n",
    "\n",
    "monitor = monitors.Monitor(name=\"matteos_monitor\")\n",
    "monitor.setSizePix([1366,768])       \n",
    "monitor.setWidth(47)                 \n",
    "monitor.setDistance(65)               \n",
    "monitor.saveMon()                    "
   ]
  },
  {
   "cell_type": "markdown",
   "id": "84150398",
   "metadata": {
    "slideshow": {
     "slide_type": "slide"
    }
   },
   "source": [
    "### Step 3: Present stimuli with the right timing"
   ]
  },
  {
   "cell_type": "markdown",
   "id": "e5ddda9e",
   "metadata": {
    "slideshow": {
     "slide_type": "slide"
    }
   },
   "source": [
    "Timing can be very important. You need to make sure that:"
   ]
  },
  {
   "cell_type": "markdown",
   "id": "92fe8abf",
   "metadata": {
    "slideshow": {
     "slide_type": "fragment"
    }
   },
   "source": [
    "- Stimuli appear when you want them to"
   ]
  },
  {
   "cell_type": "markdown",
   "id": "0d937eec",
   "metadata": {
    "slideshow": {
     "slide_type": "fragment"
    }
   },
   "source": [
    "- Stimuli remain on for as long as you want them to"
   ]
  },
  {
   "cell_type": "markdown",
   "id": "75f2da16",
   "metadata": {
    "slideshow": {
     "slide_type": "fragment"
    }
   },
   "source": [
    "- Stimuli are synchronised with neural events of interest\n",
    "    - For example: if you are doing EEG, you usually need **very** fast transitions (`ms` or sub-`ms`)"
   ]
  },
  {
   "cell_type": "markdown",
   "id": "2aa551a2",
   "metadata": {
    "slideshow": {
     "slide_type": "slide"
    }
   },
   "source": [
    "Each stimulus must have a given display time (measured in seconds).\n",
    "\n",
    "For example:"
   ]
  },
  {
   "cell_type": "code",
   "execution_count": null,
   "id": "4f220d49",
   "metadata": {
    "slideshow": {
     "slide_type": "subslide"
    }
   },
   "outputs": [],
   "source": [
    "display_time = 0.1 # one tenth of a second = 100 ms"
   ]
  },
  {
   "cell_type": "markdown",
   "id": "d06b3bc9",
   "metadata": {
    "slideshow": {
     "slide_type": "slide"
    }
   },
   "source": [
    "This display time must be transformed into a number of frames."
   ]
  },
  {
   "cell_type": "markdown",
   "id": "c27ed016",
   "metadata": {
    "slideshow": {
     "slide_type": "fragment"
    }
   },
   "source": [
    "A frame is one of many still images that compose a complete moving picture ([Wikipedia](https://en.wikipedia.org/wiki/Film_frame)). "
   ]
  },
  {
   "cell_type": "markdown",
   "id": "afc6c851",
   "metadata": {
    "slideshow": {
     "slide_type": "fragment"
    }
   },
   "source": [
    "Different screens can display different numbers of frames in one second\n",
    "- Frame (or _refresh_) rate (Hz) ([Wikipedia](https://en.wikipedia.org/wiki/Frame_rate))\n",
    "    - Often used interchangeably, but _refresh rate_ is better when talking about screens (and _frame rate_ when talking about GPUs) "
   ]
  },
  {
   "cell_type": "markdown",
   "id": "ab8560d8",
   "metadata": {
    "slideshow": {
     "slide_type": "slide"
    }
   },
   "source": [
    "To transform a display time into a number of frames, you must multiply it by your screen's refresh rate:"
   ]
  },
  {
   "cell_type": "code",
   "execution_count": null,
   "id": "55847d55",
   "metadata": {
    "slideshow": {
     "slide_type": "subslide"
    }
   },
   "outputs": [],
   "source": [
    "refresh_rate = 60 # Hz\n",
    "frames_per_stimulus = display_time*refresh_rate"
   ]
  },
  {
   "cell_type": "markdown",
   "id": "faa8ff8b",
   "metadata": {
    "slideshow": {
     "slide_type": "fragment"
    }
   },
   "source": [
    "The number of frames per item will serve as a range to iterate over:"
   ]
  },
  {
   "cell_type": "code",
   "execution_count": null,
   "id": "61fc74ef",
   "metadata": {
    "slideshow": {
     "slide_type": "fragment"
    }
   },
   "outputs": [],
   "source": [
    "for frame in range(frames_per_stimulus):\n",
    "    # display item"
   ]
  },
  {
   "cell_type": "markdown",
   "id": "4395fac9",
   "metadata": {
    "slideshow": {
     "slide_type": "slide"
    }
   },
   "source": [
    "But, how do you actually _display_ an item?"
   ]
  },
  {
   "cell_type": "markdown",
   "id": "b9ab5212",
   "metadata": {
    "slideshow": {
     "slide_type": "fragment"
    }
   },
   "source": [
    "- The `flip()` method of `Window` objects\n",
    "    - Move between frames "
   ]
  },
  {
   "cell_type": "markdown",
   "id": "db92402c",
   "metadata": {
    "slideshow": {
     "slide_type": "fragment"
    }
   },
   "source": [
    "- The `setAutoDraw()` method of all `ShapeStim` objects\n",
    "    - Draw the stimulus on every frame, without explicit frame-by-frame instruction"
   ]
  },
  {
   "cell_type": "code",
   "execution_count": null,
   "id": "a14bc9ae",
   "metadata": {
    "slideshow": {
     "slide_type": "slide"
    }
   },
   "outputs": [],
   "source": [
    "window = visual.Window(color=\"black\")\n",
    "stimulus = visual.rect.Rect(fillColor=\"white\")\n",
    "\n",
    "stimulus.setAutoDraw(True)\n",
    "for frame in range(frames_per_stimulus):\n",
    "    window.flip()"
   ]
  },
  {
   "cell_type": "markdown",
   "id": "6cbcae95",
   "metadata": {
    "slideshow": {
     "slide_type": "slide"
    }
   },
   "source": [
    "Practicals 3.0.0:\n",
    "\n",
    "- Open an Anaconda prompt or terminal\n",
    "- Type `conda activate course-env`\n",
    "- Type `pip install psychopy`\n",
    "- In any code editor, create a `.py` file where you:\n",
    "    - Initialise a `Monitor` with a given name, then set its pixel size\n",
    "    - Initialise a `Window` object as follows:\n",
    "        - `window = visual.Window(size=monitor.getSizePix(), fullscr=False, monitor=monitor.name, color=\"black\")`\n",
    "    - Create a stimulus of your choice \n",
    "    - Display the stimulus for 10 seconds at a 60 Hz refresh rate\n",
    "    - Save the `.py` file and run it\n",
    "        - From either the code editor or terminal"
   ]
  },
  {
   "cell_type": "markdown",
   "id": "c319df5b",
   "metadata": {
    "slideshow": {
     "slide_type": "slide"
    }
   },
   "source": [
    "### Step 4: Represent different experimental conditions"
   ]
  },
  {
   "cell_type": "markdown",
   "id": "4c733f8c",
   "metadata": {
    "slideshow": {
     "slide_type": "slide"
    }
   },
   "source": [
    "In neuroscientific experiments, we usually study how a subject responds to some stimulation (sensory, emotional, magnetic, electrical, etc.)."
   ]
  },
  {
   "cell_type": "markdown",
   "id": "8f8ed514",
   "metadata": {
    "slideshow": {
     "slide_type": "fragment"
    }
   },
   "source": [
    "For statistical power, we want to measure the same response several times. "
   ]
  },
  {
   "cell_type": "markdown",
   "id": "a6635fcf",
   "metadata": {
    "slideshow": {
     "slide_type": "fragment"
    }
   },
   "source": [
    "Therefore, we want an experiment with multiple _trials_: stereotyped, repeated presentations of the same stimulus or stimulus sequence."
   ]
  },
  {
   "cell_type": "markdown",
   "id": "203b3f95",
   "metadata": {
    "slideshow": {
     "slide_type": "slide"
    }
   },
   "source": [
    "In psychological experiments, we also want to study how a subject responds to different _kinds_ of stimulation (e.g., seeing a square vs. seeing a circle)."
   ]
  },
  {
   "cell_type": "markdown",
   "id": "6fb996c3",
   "metadata": {
    "slideshow": {
     "slide_type": "fragment"
    }
   },
   "source": [
    "Therefore, we want an experiment with multiple _conditions_: variations of the stimulus or stimulus sequence presented to the subject within a given trial."
   ]
  },
  {
   "cell_type": "markdown",
   "id": "a8dea767",
   "metadata": {
    "slideshow": {
     "slide_type": "slide"
    }
   },
   "source": [
    "We need code to:\n",
    "- Define different conditions\n",
    "- Administer each condition for multiple trials\n",
    "    - The number of trials per condition will vary depending on our design: balance\n",
    "- Administer the conditions in the order that we want \n",
    "    - That's often random"
   ]
  },
  {
   "cell_type": "markdown",
   "id": "5513ff81",
   "metadata": {
    "slideshow": {
     "slide_type": "slide"
    }
   },
   "source": [
    "**Define different conditions, 1: the `conditions.csv` file**"
   ]
  },
  {
   "cell_type": "markdown",
   "id": "8060decc",
   "metadata": {
    "slideshow": {
     "slide_type": "fragment"
    }
   },
   "source": [
    "In PsychoPy, you need to define your conditions in an external `.csv` file "
   ]
  },
  {
   "cell_type": "markdown",
   "id": "4cae615c",
   "metadata": {
    "slideshow": {
     "slide_type": "fragment"
    }
   },
   "source": [
    "- One row per condition"
   ]
  },
  {
   "cell_type": "markdown",
   "id": "cea667a5",
   "metadata": {
    "slideshow": {
     "slide_type": "fragment"
    }
   },
   "source": [
    "- One column per condition parameter:\n",
    "    - Presence vs. absence of a given stimulus (1,0)\n",
    "    - Colour of the stimulus (\"yellow\", \"blue\",...)\n",
    "    - Whatever you can think of..."
   ]
  },
  {
   "cell_type": "markdown",
   "id": "16f52b10",
   "metadata": {
    "slideshow": {
     "slide_type": "fragment"
    }
   },
   "source": [
    "- If you want to give higher weight to one condition (i.e., present it more times than others), you can put it in multiple rows "
   ]
  },
  {
   "cell_type": "markdown",
   "id": "77e9b816",
   "metadata": {
    "slideshow": {
     "slide_type": "slide"
    }
   },
   "source": [
    "**Define different conditions, 2: the `data.importConditions` function**"
   ]
  },
  {
   "cell_type": "markdown",
   "id": "3518e765",
   "metadata": {
    "slideshow": {
     "slide_type": "fragment"
    }
   },
   "source": [
    "Each experimental trial corresponds to one condition. Therefore, each experimental trial is one row of the `conditions.csv` file."
   ]
  },
  {
   "cell_type": "markdown",
   "id": "acd25174",
   "metadata": {
    "slideshow": {
     "slide_type": "fragment"
    }
   },
   "source": [
    "- PsychoPy implements trials as iterations over the rows of the `conditions.csv` file"
   ]
  },
  {
   "cell_type": "markdown",
   "id": "b2fdd757",
   "metadata": {
    "slideshow": {
     "slide_type": "fragment"
    }
   },
   "source": [
    "- To do so, it reads the `conditions.csv` file and transforms it in an [iterable](https://realpython.com/python-iterators-iterables/#getting-to-know-python-iterables) (i.e., an object that you can iterate over)"
   ]
  },
  {
   "cell_type": "markdown",
   "id": "eaf08ed3",
   "metadata": {
    "slideshow": {
     "slide_type": "fragment"
    }
   },
   "source": [
    "- This is done by the `importConditions` function from module `data` "
   ]
  },
  {
   "cell_type": "code",
   "execution_count": null,
   "id": "e9b036d0",
   "metadata": {
    "slideshow": {
     "slide_type": "fragment"
    }
   },
   "outputs": [],
   "source": [
    "from psychopy import data\n",
    "\n",
    "my_conditions = data.importConditions(\"conditions.csv\")"
   ]
  },
  {
   "cell_type": "markdown",
   "id": "a3b016b4",
   "metadata": {
    "slideshow": {
     "slide_type": "slide"
    }
   },
   "source": [
    "**Administer each condition for multiple trials, in the order you want: the `data.TrialHandler` class**"
   ]
  },
  {
   "cell_type": "markdown",
   "id": "cf92a5d0",
   "metadata": {
    "slideshow": {
     "slide_type": "fragment"
    }
   },
   "source": [
    "The output of `data.importConditions` is meant to be the input to `data.TrialHandler`"
   ]
  },
  {
   "cell_type": "markdown",
   "id": "74533320",
   "metadata": {
    "slideshow": {
     "slide_type": "fragment"
    }
   },
   "source": [
    "The class `TrialHandler` from module `data` implements methods to:\n",
    "- Iterate over conditions (as read by `data.importConditions`)\n",
    "- Do it as many times as you want (one trial per condition vs. multiple trials per condition)\n",
    "- Do it in the order you want (sequential vs. random)"
   ]
  },
  {
   "cell_type": "code",
   "execution_count": null,
   "id": "5590d744",
   "metadata": {
    "slideshow": {
     "slide_type": "fragment"
    }
   },
   "outputs": [],
   "source": [
    "my_trials = data.TrialHandler(trialList=my_conditions, \n",
    "                              nReps=1,\n",
    "                              method=\"random\")\n",
    "for trial in my_trials:\n",
    "    # do things"
   ]
  },
  {
   "cell_type": "markdown",
   "id": "8fbc2d90",
   "metadata": {
    "slideshow": {
     "slide_type": "slide"
    }
   },
   "source": [
    "Pay attention to the `method` argument:"
   ]
  },
  {
   "cell_type": "markdown",
   "id": "f58451f1",
   "metadata": {
    "slideshow": {
     "slide_type": "fragment"
    }
   },
   "source": [
    "- You probably want to pass `random` to avoid order effects:\n",
    "\n",
    "    shuffles the conditions, and _\"all conditions occur once before the second repeat\"_"
   ]
  },
  {
   "cell_type": "markdown",
   "id": "0aab5d14",
   "metadata": {
    "slideshow": {
     "slide_type": "fragment"
    }
   },
   "source": [
    "- You can also pass `fullRandom`, but be aware that \n",
    "\n",
    "    _\"you could potentially run all trials of one condition before any trial of another\"_"
   ]
  },
  {
   "cell_type": "markdown",
   "id": "5ec5f496",
   "metadata": {
    "slideshow": {
     "slide_type": "fragment"
    }
   },
   "source": [
    "- Finally, you can pass `sequential` if that's OK for your design. \n",
    "\n",
    "    _\"presents the conditions in the order they appear in the list\"_ (i.e., in the `conditions.csv` file)"
   ]
  },
  {
   "cell_type": "markdown",
   "id": "252925f6",
   "metadata": {
    "slideshow": {
     "slide_type": "slide"
    }
   },
   "source": [
    "### Step 5: Represent buttons and encode buttonpresses"
   ]
  },
  {
   "cell_type": "markdown",
   "id": "297f31a4",
   "metadata": {
    "slideshow": {
     "slide_type": "slide"
    }
   },
   "source": [
    "- The `event` module\n",
    "    - The `getKeys()` function"
   ]
  },
  {
   "cell_type": "markdown",
   "id": "8266e9e8",
   "metadata": {
    "slideshow": {
     "slide_type": "fragment"
    }
   },
   "source": [
    "The `event` module contains classes and functions to _\"handle input from keyboard, mouse and joystick\"_"
   ]
  },
  {
   "cell_type": "markdown",
   "id": "1c369059",
   "metadata": {
    "slideshow": {
     "slide_type": "fragment"
    }
   },
   "source": [
    "The `getKeys()` function continuously checks for keypresses and continuously returns a list of the presses that it finds.\n",
    "- If you press `left`, `getKeys()` will detect it and return a list of type: `[\"left\"]`"
   ]
  },
  {
   "cell_type": "markdown",
   "id": "993fe0a9",
   "metadata": {
    "slideshow": {
     "slide_type": "fragment"
    }
   },
   "source": [
    "You can specify the keys that you are interested in with the `keyList` argument (`type: list`). \n",
    "- If you do so, `getKeys()` will check exclusively for the keys contained in `keyList`"
   ]
  },
  {
   "cell_type": "code",
   "execution_count": null,
   "id": "b415ddb9",
   "metadata": {
    "slideshow": {
     "slide_type": "slide"
    }
   },
   "outputs": [],
   "source": [
    "from psychopy import event\n",
    "\n",
    "pressed_key = event.getKeys(keyList=[\"left\",\"right\"]) "
   ]
  },
  {
   "cell_type": "markdown",
   "id": "6bcb7893",
   "metadata": {
    "slideshow": {
     "slide_type": "slide"
    }
   },
   "source": [
    "Once you have stored the keypress in a variable, you can use it for response scoring:"
   ]
  },
  {
   "cell_type": "code",
   "execution_count": null,
   "id": "47ee61c7",
   "metadata": {
    "slideshow": {
     "slide_type": "fragment"
    }
   },
   "outputs": [],
   "source": [
    "if pressed_key[0] == \"left\":\n",
    "    response = 1        # means \"correct\"\n",
    "elif pressed_key[0] == \"right\":\n",
    "    response = 0        # means \"wrong\""
   ]
  },
  {
   "cell_type": "markdown",
   "id": "e442f2c2",
   "metadata": {
    "slideshow": {
     "slide_type": "slide"
    }
   },
   "source": [
    "Often, response timing is important. \n",
    "- Example: reaction time is a dependent variable"
   ]
  },
  {
   "cell_type": "markdown",
   "id": "4276a831",
   "metadata": {
    "slideshow": {
     "slide_type": "fragment"
    }
   },
   "source": [
    "PsychoPy provides a wealth of tools to measure time. "
   ]
  },
  {
   "cell_type": "markdown",
   "id": "2c9f84d4",
   "metadata": {
    "slideshow": {
     "slide_type": "fragment"
    }
   },
   "source": [
    "These tools are scattered across the `core` and `clock` modules\n",
    "- I believe this might change in the future, with all timing tools migrating to `clock`\n",
    "- In the meantime, you can visit [`core`](https://www.psychopy.org/api/core.html)'s and [`clock`](https://www.psychopy.org/api/clock.html)'s documentation to choose the tool that suits your needs"
   ]
  },
  {
   "cell_type": "markdown",
   "id": "edd4fff1",
   "metadata": {
    "slideshow": {
     "slide_type": "slide"
    }
   },
   "source": [
    "A simple case study: measuring reaction times"
   ]
  },
  {
   "cell_type": "markdown",
   "id": "72a1c5d8",
   "metadata": {
    "slideshow": {
     "slide_type": "fragment"
    }
   },
   "source": [
    "- The `Clock` class from the `core` module\n",
    "    - The `getTime()` method\n",
    "    - The `reset` method"
   ]
  },
  {
   "cell_type": "markdown",
   "id": "178ee074",
   "metadata": {
    "slideshow": {
     "slide_type": "slide"
    }
   },
   "source": [
    "Pseudocode:"
   ]
  },
  {
   "cell_type": "code",
   "execution_count": null,
   "id": "12f7bb44",
   "metadata": {
    "slideshow": {
     "slide_type": "fragment"
    }
   },
   "outputs": [],
   "source": [
    "from psychopy import core\n",
    "\n",
    "response_clock = core.Clock()\n",
    "for trial in my_trials:\n",
    "    # present your stimuli \n",
    "    if response:\n",
    "        reaction_time = response_clock.getTime()\n",
    "        response_clock.reset"
   ]
  },
  {
   "cell_type": "markdown",
   "id": "4a2082d6",
   "metadata": {
    "slideshow": {
     "slide_type": "fragment"
    }
   },
   "source": [
    "(_pseudocode_ is a code sketch that illustrates a concept without necessarily following the syntax of any given language)"
   ]
  },
  {
   "cell_type": "markdown",
   "id": "61a1ebac",
   "metadata": {
    "slideshow": {
     "slide_type": "slide"
    }
   },
   "source": [
    "Resetting the clock after taking the time is **VERY** important. "
   ]
  },
  {
   "cell_type": "markdown",
   "id": "442c4a91",
   "metadata": {
    "slideshow": {
     "slide_type": "fragment"
    }
   },
   "source": [
    "If you forget to do it, you will end up taking incremental times:"
   ]
  },
  {
   "cell_type": "markdown",
   "id": "2cba53b7",
   "metadata": {
    "slideshow": {
     "slide_type": "fragment"
    }
   },
   "source": [
    "- First reaction time: `clock.getTime()` - $t_{start}$\n",
    "\n",
    "    where $t_{start}$ is the time when you initialised your clock (i.e., when `response_clock = core.Clock()` was executed)"
   ]
  },
  {
   "cell_type": "markdown",
   "id": "dad5c6fd",
   "metadata": {
    "slideshow": {
     "slide_type": "fragment"
    }
   },
   "source": [
    "- Second reaction time: `clock_getTime()` + first reaction time"
   ]
  },
  {
   "cell_type": "markdown",
   "id": "da8c5893",
   "metadata": {
    "slideshow": {
     "slide_type": "fragment"
    }
   },
   "source": [
    "- Third reaction time: `clock_getTime()` + second reaction time"
   ]
  },
  {
   "cell_type": "markdown",
   "id": "f9232a1a",
   "metadata": {
    "slideshow": {
     "slide_type": "fragment"
    }
   },
   "source": [
    "- etc..."
   ]
  },
  {
   "cell_type": "markdown",
   "id": "0a0c1892",
   "metadata": {
    "slideshow": {
     "slide_type": "slide"
    }
   },
   "source": [
    "What you really want is: \n",
    "- Any reaction time: `clock.getTime()` - $t_{start}$\n",
    "\n",
    "    where $t_{start}$ is the time when you presented you stimulus (i.e., the beginning of a frame or trial)"
   ]
  },
  {
   "cell_type": "markdown",
   "id": "150041de",
   "metadata": {
    "slideshow": {
     "slide_type": "slide"
    }
   },
   "source": [
    "Real code:"
   ]
  },
  {
   "cell_type": "code",
   "execution_count": null,
   "id": "f7ef961d",
   "metadata": {
    "slideshow": {
     "slide_type": "fragment"
    }
   },
   "outputs": [],
   "source": [
    "from psychopy import visual, core, event\n",
    "\n",
    "window = visual.Window(color=\"black\")\n",
    "stimulus = visual.rect.Rect(fillColor=\"white\")\n",
    "\n",
    "response_clock = core.Clock()\n",
    "\n",
    "for trial in my_trials:\n",
    "    stimulus.setAutoDraw(True)\n",
    "    window.callOnFlip(response_clock.reset) # analogous to setAutoDraw\n",
    "    event.clearEvents()                     # clears old  keypresses \n",
    "    for frame in range(frames_per_stimulus):\n",
    "        keys = event.getKeys(keyList=[\"left\",\"right\"])\n",
    "        if len(keys) > 0:\n",
    "            response = keys[0]   \n",
    "            reaction_time = response_clock.getTime() \n",
    "            break\n",
    "        window.flip()"
   ]
  },
  {
   "cell_type": "markdown",
   "id": "373f3d83",
   "metadata": {
    "slideshow": {
     "slide_type": "slide"
    }
   },
   "source": [
    "Practicals 3.0.1:\n",
    "\n",
    "Modify the script from the previous practical. You want to:\n",
    "- Accept responses \n",
    "- Take reaction times\n",
    "- Print the reaction time\n",
    "\n",
    "When you are done with your modifications, run the script to see if it works."
   ]
  },
  {
   "cell_type": "markdown",
   "id": "8dfd97b1",
   "metadata": {
    "slideshow": {
     "slide_type": "slide"
    }
   },
   "source": [
    "### Step 6: Represent the neuroimaging system and interact with it"
   ]
  },
  {
   "cell_type": "markdown",
   "id": "023143ad",
   "metadata": {
    "slideshow": {
     "slide_type": "slide"
    }
   },
   "source": [
    "This step will vary depending on the neuroimaging technique and your hardware set-up. "
   ]
  },
  {
   "cell_type": "markdown",
   "id": "ea214342",
   "metadata": {
    "slideshow": {
     "slide_type": "fragment"
    }
   },
   "source": [
    "But, what are we even talking about?"
   ]
  },
  {
   "cell_type": "markdown",
   "id": "4aae4d7d",
   "metadata": {
    "slideshow": {
     "slide_type": "slide"
    }
   },
   "source": [
    "When you do a behavioural experiment during neuroimaging, you want a link between neuroimaging and behavioural data: "
   ]
  },
  {
   "cell_type": "markdown",
   "id": "02b3a8bf",
   "metadata": {
    "slideshow": {
     "slide_type": "fragment"
    }
   },
   "source": [
    "- Mark EEG time series at stimulus presentation times"
   ]
  },
  {
   "cell_type": "markdown",
   "id": "d0210a51",
   "metadata": {
    "slideshow": {
     "slide_type": "fragment"
    }
   },
   "source": [
    "- Present stimuli when an MRI scanner is ready for them, i.e., at the right moment of an acquisition sequence\n",
    "    - Disclaimer: I have no MRI expertise"
   ]
  },
  {
   "cell_type": "markdown",
   "id": "beba3177",
   "metadata": {
    "slideshow": {
     "slide_type": "slide"
    }
   },
   "source": [
    "**Problem:** \n",
    "\n",
    "The PsychoPy code for the behavioural task runs in one computer\n",
    "\n",
    "The neuroimaging data are acquired by another / the MRI scans are controlled by another"
   ]
  },
  {
   "cell_type": "markdown",
   "id": "1981369d",
   "metadata": {
    "slideshow": {
     "slide_type": "fragment"
    }
   },
   "source": [
    "You need a piece of hardware to connect two computers and carry signals between them. "
   ]
  },
  {
   "cell_type": "markdown",
   "id": "296ebc02",
   "metadata": {
    "slideshow": {
     "slide_type": "fragment"
    }
   },
   "source": [
    "This is often a parallel port, but it can well be a serial port."
   ]
  },
  {
   "cell_type": "markdown",
   "id": "13df84a2",
   "metadata": {
    "slideshow": {
     "slide_type": "slide"
    }
   },
   "source": [
    "Simplifying:\n",
    "- A parallel port is a hardware interface that can transmit multiple signals in parallel. It is connected to a cable with multiple threads (akin to a nervous fibre) ([Wikipedia](https://en.wikipedia.org/wiki/Parallel_port))\n",
    "- A serial port is a hardware interface that can transmit one signal at a time ([Wikipedia](https://en.wikipedia.org/wiki/Serial_port))"
   ]
  },
  {
   "cell_type": "markdown",
   "id": "6b54ff4c",
   "metadata": {
    "slideshow": {
     "slide_type": "fragment"
    }
   },
   "source": [
    "PsychoPy has a `hardware` module that contains:\n",
    "\n",
    "- The `parallel` submodule, to send signals through parallel ports\n",
    "- The `serial` submodule, to send signals through serial ports"
   ]
  },
  {
   "cell_type": "markdown",
   "id": "b4179741",
   "metadata": {
    "slideshow": {
     "slide_type": "fragment"
    }
   },
   "source": [
    "I'll make the example with `parallel`, but `serial` is similar in concept. In both cases, you need to:\n",
    "- Import the appropriate submodule\n",
    "- Initialise an object that represents your port. This object will have one key attribute: the port's _address_ (basically, its name)\n",
    "- Write code to have signals travelling from / to the port"
   ]
  },
  {
   "cell_type": "markdown",
   "id": "80bb391b",
   "metadata": {
    "slideshow": {
     "slide_type": "slide"
    }
   },
   "source": [
    "Example: marking an EEG trace through a parallel port"
   ]
  },
  {
   "cell_type": "code",
   "execution_count": null,
   "id": "2e082fce",
   "metadata": {
    "slideshow": {
     "slide_type": "fragment"
    }
   },
   "outputs": [],
   "source": [
    "from psychopy import parallel\n",
    "\n",
    "port = parallel.ParallelPort(address=\"0x0378\") # can vary\n",
    "port.setPin(pinNumber=1, \n",
    "            state=1)\n",
    "# display your stimulus\n",
    "port.setPin(pinNumber=1,\n",
    "            state=0)"
   ]
  },
  {
   "cell_type": "markdown",
   "id": "f338e89d",
   "metadata": {
    "slideshow": {
     "slide_type": "fragment"
    }
   },
   "source": [
    "Go [here](https://psychopy.org/hardware/fMRI.html) for a tutorial on synchronising stimulus presentation with the activity of MRI scanners. "
   ]
  },
  {
   "cell_type": "markdown",
   "id": "fbd033c3",
   "metadata": {
    "slideshow": {
     "slide_type": "slide"
    }
   },
   "source": [
    "**Final considerations**"
   ]
  },
  {
   "cell_type": "markdown",
   "id": "255ae792",
   "metadata": {
    "slideshow": {
     "slide_type": "slide"
    }
   },
   "source": [
    "PsychoPy is a great piece of software:\n",
    "- You can run virtually any type of visual / auditory experiment\n",
    "- You can interact with quite a lot of hardware (though I only have EEG expertise, eheh)\n",
    "- All you need is a bit of Python expertise"
   ]
  },
  {
   "cell_type": "markdown",
   "id": "661c756e",
   "metadata": {},
   "source": [
    "However, it has flaws:\n",
    "- The library has an associated GUI called Builder. It is meant to:\n",
    "    - Empower people who can't code\n",
    "    - Accelerate prototyping for the people who can code\n",
    "- PsychoPy developers promote the Builder heavily, so most online tutorials will be Builder-centred\n",
    "    - Bad news for coders\n",
    "- In general, the documentation for the codebase is:\n",
    "    - Hard to find, as it's buried under a myriad articles about the GUI\n",
    "    - Poorly maintained \n",
    "    - But these are my personal opinions   "
   ]
  }
 ],
 "metadata": {
  "celltoolbar": "Slideshow",
  "kernelspec": {
   "display_name": "Python 3 (ipykernel)",
   "language": "python",
   "name": "python3"
  },
  "language_info": {
   "codemirror_mode": {
    "name": "ipython",
    "version": 3
   },
   "file_extension": ".py",
   "mimetype": "text/x-python",
   "name": "python",
   "nbconvert_exporter": "python",
   "pygments_lexer": "ipython3",
   "version": "3.10.10"
  }
 },
 "nbformat": 4,
 "nbformat_minor": 5
}
