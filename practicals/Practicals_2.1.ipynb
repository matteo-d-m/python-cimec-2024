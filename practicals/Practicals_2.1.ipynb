{
 "cells": [
  {
   "cell_type": "markdown",
   "id": "03a44e75",
   "metadata": {},
   "source": [
    "# Practicals for lecture 2.1\n",
    "\n",
    "Download this practicals file on your computer and fill it out using your local Python installation!"
   ]
  },
  {
   "cell_type": "markdown",
   "id": "2d2a4f38",
   "metadata": {},
   "source": [
    "## 2.1.2 The `pathlib` library"
   ]
  },
  {
   "cell_type": "code",
   "execution_count": 1,
   "id": "ff2b1efb",
   "metadata": {},
   "outputs": [],
   "source": [
    "from pathlib import Path"
   ]
  },
  {
   "cell_type": "code",
   "execution_count": 2,
   "id": "d646593e",
   "metadata": {},
   "outputs": [],
   "source": [
    "# Download the data from https://github.com/vigji/python-cimec-2024/blob/main/practicals/data/imaging_data.zip \n",
    "# and unzip it. Then, find its location on the filesystem\n",
    "# and create a Path object representing its location.\n",
    "\n",
    "# The data we are downloading comes from https://openneuro.org/datasets/ds002868/versions/1.0.1\n",
    "# (Just for fun) you can check the BIDS directives which defines your dataset\n",
    "# structure and metadata: https://bids.neuroimaging.io/"
   ]
  },
  {
   "cell_type": "code",
   "execution_count": 3,
   "id": "d86736b4",
   "metadata": {},
   "outputs": [],
   "source": [
    "# use Path class rglob method to create a check how many sessions you have in the dataset.\n",
    "# Create a list with all the sessions paths!\n"
   ]
  },
  {
   "cell_type": "code",
   "execution_count": 4,
   "id": "c5dbf90e",
   "metadata": {},
   "outputs": [
    {
     "data": {
      "text/plain": [
       "16"
      ]
     },
     "execution_count": 4,
     "metadata": {},
     "output_type": "execute_result"
    }
   ],
   "source": [
    "# Check the number of sessions labeled ses-1:\n"
   ]
  },
  {
   "cell_type": "code",
   "execution_count": 5,
   "id": "2fc2560b",
   "metadata": {},
   "outputs": [],
   "source": [
    "# Find the path of all imaging data files that are in the dataset! \n",
    "# Imaging data files have extension \".nii.gz\"\n"
   ]
  },
  {
   "cell_type": "code",
   "execution_count": 6,
   "id": "fbc3d20c",
   "metadata": {},
   "outputs": [],
   "source": [
    "# The filename of the imaging file ends with the type of acquisition\n",
    "# in penultimate position.\n",
    "# For example, for the file \"sub-001_ses-1_acq-RARE_T2w.nii.gz\", the acquisition type is \"acq-RARE\".\n",
    "\n",
    "# Using split and sets, identify how many aquisition types are in the dataset:\n"
   ]
  },
  {
   "cell_type": "code",
   "execution_count": 9,
   "id": "594ad01c",
   "metadata": {},
   "outputs": [
    {
     "data": {
      "text/plain": [
       "Ellipsis"
      ]
     },
     "execution_count": 9,
     "metadata": {},
     "output_type": "execute_result"
    }
   ],
   "source": [
    "# Now use pandas to create an imaging sessions DataFrame that contains a catalog of files.\n",
    "# For each file the DataFrame will have a row specifying the subject id, \n",
    "# the session number, and the acquisition type.\n",
    "import pandas as pd \n",
    "\n",
    "..."
   ]
  },
  {
   "cell_type": "code",
   "execution_count": null,
   "id": "58e6d9d5",
   "metadata": {},
   "outputs": [],
   "source": []
  }
 ],
 "metadata": {
  "kernelspec": {
   "display_name": "course-env",
   "language": "python",
   "name": "course-env"
  },
  "language_info": {
   "codemirror_mode": {
    "name": "ipython",
    "version": 3
   },
   "file_extension": ".py",
   "mimetype": "text/x-python",
   "name": "python",
   "nbconvert_exporter": "python",
   "pygments_lexer": "ipython3",
   "version": "3.10.13"
  }
 },
 "nbformat": 4,
 "nbformat_minor": 5
}
