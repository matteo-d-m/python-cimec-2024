{
 "cells": [
  {
   "cell_type": "markdown",
   "id": "f784a26c",
   "metadata": {},
   "source": [
    "# Practicals for lecture 1.5\n",
    "\n",
    "[![Open In Colab](https://colab.research.google.com/assets/colab-badge.svg)](https://colab.research.google.com/github/vigji/python-cimec-2024/blob/main/practicals/Practicals_1.5.ipynb)"
   ]
  },
  {
   "cell_type": "markdown",
   "id": "f44bfe04",
   "metadata": {},
   "source": [
    "#### 1.5.0 Plotting with `matplotlib`\n"
   ]
  },
  {
   "cell_type": "code",
   "execution_count": 20,
   "id": "0c89e23a",
   "metadata": {},
   "outputs": [
    {
     "data": {
      "text/html": [
       "<div>\n",
       "<style scoped>\n",
       "    .dataframe tbody tr th:only-of-type {\n",
       "        vertical-align: middle;\n",
       "    }\n",
       "\n",
       "    .dataframe tbody tr th {\n",
       "        vertical-align: top;\n",
       "    }\n",
       "\n",
       "    .dataframe thead th {\n",
       "        text-align: right;\n",
       "    }\n",
       "</style>\n",
       "<table border=\"1\" class=\"dataframe\">\n",
       "  <thead>\n",
       "    <tr style=\"text-align: right;\">\n",
       "      <th></th>\n",
       "      <th>time</th>\n",
       "      <th>temperature_2m</th>\n",
       "      <th>relative_humidity_2m</th>\n",
       "      <th>precipitation</th>\n",
       "      <th>wind_speed_10m</th>\n",
       "      <th>winddirection_10m</th>\n",
       "      <th>month</th>\n",
       "      <th>hour</th>\n",
       "      <th>dayofyear</th>\n",
       "    </tr>\n",
       "  </thead>\n",
       "  <tbody>\n",
       "    <tr>\n",
       "      <th>0</th>\n",
       "      <td>2024-01-01 00:00:00</td>\n",
       "      <td>5.8</td>\n",
       "      <td>84</td>\n",
       "      <td>0.0</td>\n",
       "      <td>9.3</td>\n",
       "      <td>193</td>\n",
       "      <td>1</td>\n",
       "      <td>0</td>\n",
       "      <td>1</td>\n",
       "    </tr>\n",
       "    <tr>\n",
       "      <th>1</th>\n",
       "      <td>2024-01-01 01:00:00</td>\n",
       "      <td>5.6</td>\n",
       "      <td>84</td>\n",
       "      <td>0.0</td>\n",
       "      <td>8.8</td>\n",
       "      <td>192</td>\n",
       "      <td>1</td>\n",
       "      <td>1</td>\n",
       "      <td>1</td>\n",
       "    </tr>\n",
       "    <tr>\n",
       "      <th>2</th>\n",
       "      <td>2024-01-01 02:00:00</td>\n",
       "      <td>5.2</td>\n",
       "      <td>86</td>\n",
       "      <td>0.0</td>\n",
       "      <td>8.0</td>\n",
       "      <td>185</td>\n",
       "      <td>1</td>\n",
       "      <td>2</td>\n",
       "      <td>1</td>\n",
       "    </tr>\n",
       "    <tr>\n",
       "      <th>3</th>\n",
       "      <td>2024-01-01 03:00:00</td>\n",
       "      <td>5.1</td>\n",
       "      <td>85</td>\n",
       "      <td>0.0</td>\n",
       "      <td>8.0</td>\n",
       "      <td>198</td>\n",
       "      <td>1</td>\n",
       "      <td>3</td>\n",
       "      <td>1</td>\n",
       "    </tr>\n",
       "    <tr>\n",
       "      <th>4</th>\n",
       "      <td>2024-01-01 04:00:00</td>\n",
       "      <td>5.4</td>\n",
       "      <td>82</td>\n",
       "      <td>0.0</td>\n",
       "      <td>8.7</td>\n",
       "      <td>210</td>\n",
       "      <td>1</td>\n",
       "      <td>4</td>\n",
       "      <td>1</td>\n",
       "    </tr>\n",
       "  </tbody>\n",
       "</table>\n",
       "</div>"
      ],
      "text/plain": [
       "                 time  temperature_2m  relative_humidity_2m  precipitation  \\\n",
       "0 2024-01-01 00:00:00             5.8                    84            0.0   \n",
       "1 2024-01-01 01:00:00             5.6                    84            0.0   \n",
       "2 2024-01-01 02:00:00             5.2                    86            0.0   \n",
       "3 2024-01-01 03:00:00             5.1                    85            0.0   \n",
       "4 2024-01-01 04:00:00             5.4                    82            0.0   \n",
       "\n",
       "   wind_speed_10m  winddirection_10m  month  hour  dayofyear  \n",
       "0             9.3                193      1     0          1  \n",
       "1             8.8                192      1     1          1  \n",
       "2             8.0                185      1     2          1  \n",
       "3             8.0                198      1     3          1  \n",
       "4             8.7                210      1     4          1  "
      ]
     },
     "execution_count": 20,
     "metadata": {},
     "output_type": "execute_result"
    }
   ],
   "source": [
    "# Take the meteo dataset using the function below\n",
    "import numpy as np\n",
    "import pandas as pd\n",
    "\n",
    "def get_meteo_dataset():\n",
    "    \"\"\"Get a meteo dataset from the open-meteo API using a fixed window.\n",
    "    Note how easy it is to get data from the web with pandas! As long as we give the URL of the csv data, pandas can read it.\n",
    "    \"\"\"\n",
    "    np.random.seed(42)\n",
    "    # URL = \"https://api.open-meteo.com/v1/forecast?latitude=52.52&longitude=13.41&current=temperature_2m,relativehumidity_2m,precipitation,windspeed_10m,winddirection_10m&start_date=2023-02-10&end_date=2023-05-28&format=csv\"\n",
    "    URL = \"https://api.open-meteo.com/v1/forecast?latitude=52.52&longitude=13.41&current=temperature_2m,wind_speed_10m&hourly=temperature_2m,relative_humidity_2m,precipitation,wind_speed_10m,winddirection_10m&start_date=2024-01-01&end_date=2024-05-04&format=csv\"\n",
    "    df = pd.read_csv(URL, skiprows=6)  # read the csv file, skipping the first 3 rows (a header)\n",
    "    df.columns = [col.split(\" \")[0] for col in df.columns]  # simplify column names\n",
    "    df[\"time\"] = pd.to_datetime(df[\"time\"])  # convert the time column to datetime\n",
    "    df[\"month\"] = df[\"time\"].dt.month\n",
    "    df[\"hour\"], df[\"dayofyear\"] = df[\"time\"].dt.hour, df[\"time\"].dt.dayofyear  # extract the hour and day of year\n",
    "    return df\n",
    "\n",
    "# This new meteo dataset has columns for the day of the year, \n",
    "# hour of the day, and day of the week.\n",
    "meteo_df = get_meteo_dataset()\n",
    "meteo_df.head()"
   ]
  },
  {
   "cell_type": "code",
   "execution_count": 33,
   "id": "36801c65",
   "metadata": {
    "ExecuteTime": {
     "end_time": "2023-05-22T07:47:41.732619Z",
     "start_time": "2023-05-22T07:47:41.653063Z"
    }
   },
   "outputs": [],
   "source": [
    "# Use matplotlib obj oriented interface to create a figure and some axes, \n",
    "# and scatter the wind speed vs the relative humidity.\n",
    "\n",
    "# Use methods of the axis object to set the axes names, \n",
    "# and restrict the wind speed axis between 0 and 30 km/h\n"
   ]
  },
  {
   "cell_type": "code",
   "execution_count": 16,
   "id": "da391646",
   "metadata": {},
   "outputs": [],
   "source": [
    "# Now specify an alpha value < 1 (transparency) for the scatterplot:\n"
   ]
  },
  {
   "cell_type": "code",
   "execution_count": 17,
   "id": "5778390f",
   "metadata": {},
   "outputs": [],
   "source": [
    "# Use boolean selection on the dataframe to show in blue points for day times (h8-20) and in green\n",
    "# points for night times (h 0-8 and 20-23):\n"
   ]
  },
  {
   "cell_type": "code",
   "execution_count": 18,
   "id": "342d62d9",
   "metadata": {},
   "outputs": [],
   "source": [
    "# Make a new line plot showing temperature over time, making sure you properly label your axes \n",
    "\n",
    "# Use axvspan to visualize the time interval corresponding to February"
   ]
  },
  {
   "cell_type": "code",
   "execution_count": 19,
   "id": "96b4ac43",
   "metadata": {},
   "outputs": [],
   "source": [
    "# Do again the line plot for temperature, but now highlight all hours with a temperature above 25 degrees.\n",
    "# Visualize the threshold using axhline and use scatter() to show all hours above the threshold overlayed\n",
    "# over (! make sure they are over) the line plot:\n"
   ]
  },
  {
   "cell_type": "code",
   "execution_count": null,
   "id": "f95f6932",
   "metadata": {},
   "outputs": [],
   "source": [
    "# Try to save the image as pdf and download it to your computer:\n"
   ]
  },
  {
   "cell_type": "markdown",
   "id": "d885d34c",
   "metadata": {},
   "source": [
    "#### 1.5.1 Subplots"
   ]
  },
  {
   "cell_type": "code",
   "execution_count": 9,
   "id": "8cd71084",
   "metadata": {
    "ExecuteTime": {
     "end_time": "2023-05-22T07:56:17.962405Z",
     "start_time": "2023-05-22T07:56:17.956215Z"
    }
   },
   "outputs": [],
   "source": [
    "# Create two plots one on top of the other using matplotlib's subplots function.\n",
    "\n",
    "# In the top plot, show both the unsmoothed and the smoothed temperature series.\n",
    "\n",
    "# In the bottom plot, show the relative humidity series.\n",
    "\n",
    "# Hint: you can pass the sharex=True argument to the subplots function to easily \n",
    "# make the two plots share the same x axis:\n",
    "\n"
   ]
  },
  {
   "cell_type": "code",
   "execution_count": null,
   "id": "8b283fcf",
   "metadata": {},
   "outputs": [],
   "source": [
    "# Create a 2 x 2 grid of plots using matplotlib's subplots function.\n",
    "\n",
    "# In each plot, we will show the correlation of a variables with the temperature. \n",
    "# Temperature should always be on the x axis, and the other variable on the y axis.\n",
    "\n",
    "# Top left should show the correlation of temperature with relative humidity, top right with wind speed,\n",
    "# bottom left with precipitation, bottom right with time of the day.\n",
    "\n",
    "# Try to use a for loop to iterate over the axes of the grid, and use the .scatter() method to plot the data!\n"
   ]
  },
  {
   "cell_type": "markdown",
   "id": "96801afb",
   "metadata": {},
   "source": [
    "#### 1.5.2 the `seaborn` library"
   ]
  },
  {
   "cell_type": "code",
   "execution_count": null,
   "id": "059f81ad",
   "metadata": {},
   "outputs": [],
   "source": [
    "# Make a violinplot to show the distribution of wind speeds for "
   ]
  },
  {
   "cell_type": "code",
   "execution_count": null,
   "id": "7383e538",
   "metadata": {},
   "outputs": [],
   "source": [
    "# Make a swarmplot to show the distribution of temperature for each of the first 4 months of the year\n",
    "# (each month should appear as a different column of points!)\n"
   ]
  },
  {
   "cell_type": "code",
   "execution_count": 31,
   "id": "2a420eaa",
   "metadata": {},
   "outputs": [],
   "source": [
    "# Make a lmplot showing the correlation between temperature and time of the day for each different\n",
    "# month of the year:\n"
   ]
  },
  {
   "cell_type": "code",
   "execution_count": null,
   "id": "8b686b01",
   "metadata": {},
   "outputs": [],
   "source": []
  }
 ],
 "metadata": {
  "kernelspec": {
   "display_name": "course-env",
   "language": "python",
   "name": "course-env"
  },
  "language_info": {
   "codemirror_mode": {
    "name": "ipython",
    "version": 3
   },
   "file_extension": ".py",
   "mimetype": "text/x-python",
   "name": "python",
   "nbconvert_exporter": "python",
   "pygments_lexer": "ipython3",
   "version": "3.10.13"
  }
 },
 "nbformat": 4,
 "nbformat_minor": 5
}
