{
 "cells": [
  {
   "cell_type": "markdown",
   "id": "3c07179d",
   "metadata": {},
   "source": [
    "# Practicals for lecture 1.5\n",
    "\n",
    "[![Open In Colab](https://colab.research.google.com/assets/colab-badge.svg)](https://colab.research.google.com/github/vigji/python-cimec-2024/blob/main/practicals/Practicals_1.5.ipynb)"
   ]
  },
  {
   "cell_type": "markdown",
   "id": "f44bfe04",
   "metadata": {},
   "source": [
    "#### 1.5.0 Plotting with `matplotlib`\n"
   ]
  },
  {
   "cell_type": "code",
   "execution_count": null,
   "id": "36801c65",
   "metadata": {
    "ExecuteTime": {
     "end_time": "2023-05-22T07:47:41.732619Z",
     "start_time": "2023-05-22T07:47:41.653063Z"
    }
   },
   "outputs": [],
   "source": [
    "# Use matplotlib obj oriented interface to create a figure and some axes, \n",
    "# and scatter the wind speed vs the relative humidity.\n",
    "\n",
    "# Use methods of the axis object to set the axes names, \n",
    "# and restrict the wind speed axis between 0 and 30 km/h\n"
   ]
  },
  {
   "cell_type": "code",
   "execution_count": null,
   "id": "2bd96f95",
   "metadata": {},
   "outputs": [],
   "source": []
  },
  {
   "cell_type": "code",
   "execution_count": null,
   "id": "452b2b98",
   "metadata": {},
   "outputs": [],
   "source": [
    "# Now specify an alpha value < 1 (transparency) to get a better sense of the density of the points."
   ]
  },
  {
   "cell_type": "markdown",
   "id": "36850ca6",
   "metadata": {},
   "source": [
    "#### 1.5.1 Subplots"
   ]
  },
  {
   "cell_type": "code",
   "execution_count": 9,
   "id": "8cd71084",
   "metadata": {
    "ExecuteTime": {
     "end_time": "2023-05-22T07:56:17.962405Z",
     "start_time": "2023-05-22T07:56:17.956215Z"
    }
   },
   "outputs": [],
   "source": [
    "# Create two plots one on top of the other using matplotlib's subplots function.\n",
    "\n",
    "# In the top plot, show both the unsmoothed and the smoothed temperature series.\n",
    "\n",
    "# In the bottom plot, show the relative humidity series.\n",
    "\n",
    "# Hint: you can pass the sharex=True argument to the subplots function to make the two plots share the same x axis:\n",
    "\n"
   ]
  },
  {
   "cell_type": "code",
   "execution_count": null,
   "id": "8b283fcf",
   "metadata": {},
   "outputs": [],
   "source": [
    "# Create a 2 x 2 grid of plots using matplotlib's subplots function.\n",
    "\n",
    "# In each plot, we will show the correlation of some variables with the temperature. Temperature will always be on the x axis,\n",
    "# and the other variable on the y axis.\n",
    "\n",
    "# Top left should show the correlation of temperature with relative humidity, top right with wind speed,\n",
    "# bottom left with precipitation, bottom right with time of the day.\n",
    "\n",
    "# Try to use a for loop to iterate over the axes of the grid, and use the .scatter() method to plot the data!\n"
   ]
  },
  {
   "cell_type": "markdown",
   "id": "e739d3aa",
   "metadata": {},
   "source": [
    "#### 1.5.2 the `seaborn` library"
   ]
  },
  {
   "cell_type": "code",
   "execution_count": null,
   "id": "c39ea0b8",
   "metadata": {},
   "outputs": [],
   "source": []
  }
 ],
 "metadata": {
  "kernelspec": {
   "display_name": "course-env",
   "language": "python",
   "name": "course-env"
  },
  "language_info": {
   "codemirror_mode": {
    "name": "ipython",
    "version": 3
   },
   "file_extension": ".py",
   "mimetype": "text/x-python",
   "name": "python",
   "nbconvert_exporter": "python",
   "pygments_lexer": "ipython3",
   "version": "3.10.13"
  }
 },
 "nbformat": 4,
 "nbformat_minor": 5
}
