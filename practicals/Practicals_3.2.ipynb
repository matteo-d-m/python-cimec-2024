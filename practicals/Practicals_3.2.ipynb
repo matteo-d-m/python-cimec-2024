{
 "cells": [
  {
   "cell_type": "code",
   "execution_count": 3,
   "id": "9856b7cc-7c95-427c-81e2-9506f7d5fc52",
   "metadata": {},
   "outputs": [],
   "source": [
    "import numpy as np\n",
    "import nibabel as nib\n",
    "\n",
    "import matplotlib.pyplot as plt\n",
    "\n",
    "from pathlib import Path"
   ]
  },
  {
   "cell_type": "markdown",
   "id": "17886266-8de0-498c-ba47-fc54677d7d61",
   "metadata": {},
   "source": [
    "# Practicals 2.3"
   ]
  },
  {
   "cell_type": "markdown",
   "id": "eee93e53-fd29-4542-961c-cd91ffcdc488",
   "metadata": {},
   "source": [
    "data can be freely downloaded from: [openneuro](https://openneuro.org/datasets/ds004116/versions/1.0.0)."
   ]
  },
  {
   "cell_type": "markdown",
   "id": "f22d0a7a-4550-44fb-b6d6-d1a1ab9bf484",
   "metadata": {},
   "source": [
    "## Helper function"
   ]
  },
  {
   "cell_type": "code",
   "execution_count": 22,
   "id": "c7214f05-9dfd-433e-baa6-8d8722b61b2d",
   "metadata": {},
   "outputs": [],
   "source": [
    "def read_nifti(file_name):\n",
    "    \n",
    "    \"\"\"\n",
    "    loads a nifti file\n",
    "    \n",
    "    inputs:\n",
    "    file_name (str or path)                   Path to the file\n",
    "    \n",
    "    returns:\n",
    "    img: nibabel.Nifti1image                  Image object\n",
    "    [X,Y,Z,T]: np.array(int)                  Image shape    \n",
    "    \"\"\"\n",
    "    \n",
    "    img = nib.load(file_name)\n",
    "    \n",
    "    return img, img.shape\n",
    "\n",
    "\n",
    "def display_image(img_2_display, mask_img_2_display = None, vmin = 0.7, vmax = 1.6, alpha_factor = 0.2):\n",
    "    \n",
    "    \"\"\"\n",
    "    diplays an image and an overlay with transparency\n",
    "    \n",
    "    inputs:\n",
    "    img_2_display: 2D numpy.array                      Image to display\n",
    "    mask_img_2_display: 2D numpy.array                 Image to overlay\n",
    "    vmin: float                                        Low aturation value of background image    \n",
    "    vmax: float                                        High Saturation value of background image    \n",
    "    alpha_factor: float                                transparency of the overlay\n",
    "    \"\"\"\n",
    "    \n",
    "    fig, ax = plt.subplots(1,1, figsize = (5,7), dpi = 200)\n",
    "    \n",
    "    ax.imshow(\n",
    "        np.rot90((img_2_display)), \n",
    "        cmap = 'Greys_r',\n",
    "        vmin = vmin,\n",
    "        vmax = vmax\n",
    "    )\n",
    "    \n",
    "    if mask_img_2_display is not None:\n",
    "        \n",
    "        alpha = alpha_factor*(mask_img_2_display>0).astype(float)\n",
    "        \n",
    "        ax.imshow(np.rot90(alpha), cmap = 'hot', vmax = 1, alpha = np.rot90(alpha))\n",
    "        \n",
    "    ax.axis('off')\n",
    "        \n",
    "    return"
   ]
  },
  {
   "cell_type": "markdown",
   "id": "dc144cff-7ee9-4cd1-b16d-788e105490d7",
   "metadata": {},
   "source": [
    "## Practicals 2.3.0"
   ]
  },
  {
   "cell_type": "code",
   "execution_count": 11,
   "id": "6b0ba386-bc6e-4ae8-9ed1-0d477beb573e",
   "metadata": {},
   "outputs": [
    {
     "name": "stdout",
     "output_type": "stream",
     "text": [
      "Image loaded\n",
      "X: 64, Y: 24, Z: 48, T:900\n",
      "Mask loaded\n",
      "X: 64, Y: 24, Z: 48\n"
     ]
    }
   ],
   "source": [
    "# open image for rs-fmri\n",
    "# You might change the pth to fit your local install\n",
    "\n",
    "file_name = Path('/home/lenkeiuser/Documents/JC/1_DATA/2023-06-14_python-course/2024_python-course_NI/standardRats/1_Data/sub-302105_task-rest-chopped-blownup-despike-mcf-skull-stripped-registered_bold.nii.gz')\n",
    "mask_name = Path('/home/lenkeiuser/Documents/JC/1_DATA/2023-06-14_python-course/2024_python-course_NI/standardRats/Params/SIGMA_InVivo_Functional_Brain_mask-cleaned_blownup.nii.gz')\n",
    "\n",
    "img, [X,Y,Z,T] = read_nifti(file_name)\n",
    "\n",
    "print(f'Image loaded\\nX: {X}, Y: {Y}, Z: {Z}, T:{T}')\n",
    "\n",
    "mask_img, [X,Y,Z] = read_nifti(mask_name)\n",
    "\n",
    "print(f'Mask loaded\\nX: {X}, Y: {Y}, Z: {Z}')"
   ]
  },
  {
   "cell_type": "markdown",
   "id": "84aa8541-908c-4854-b099-5d72281bf705",
   "metadata": {},
   "source": [
    "## 2.3.0.0\n",
    "\n",
    "With the helper function `read_nifti()` open both the `file_name` and `mask_name`. Check the header and verify that both images coincide with `display_image()` (you can use nilearn display tool as well). "
   ]
  },
  {
   "cell_type": "code",
   "execution_count": null,
   "id": "06312465-cd98-46a5-8c78-9da239767461",
   "metadata": {},
   "outputs": [],
   "source": []
  },
  {
   "cell_type": "markdown",
   "id": "da985862-ca65-4382-83e0-76bf1204de0d",
   "metadata": {},
   "source": [
    "## 2.3.0.1"
   ]
  },
  {
   "cell_type": "markdown",
   "id": "e35644f7-36e4-4643-82d7-4f0140b31748",
   "metadata": {},
   "source": [
    "- Clean your image with `clean_img`. \n",
    "    - standardize\n",
    "    - filter between 0.01 and 0.1 Hz\n",
    "    - regress some confounds (GSR, tCompCor,...)\n",
    "- Display carpet plot. \n",
    "- Extract global signal with `apply_mask`. \n",
    "- Look at the correlation map with global signal \n",
    "- Extract your seed signal with `apply_mask`.\n",
    "- Compute the correlation map."
   ]
  },
  {
   "cell_type": "code",
   "execution_count": null,
   "id": "aaca045f-2a47-415e-92ed-f7ea4a3d9d86",
   "metadata": {},
   "outputs": [],
   "source": []
  },
  {
   "cell_type": "markdown",
   "id": "62d2ced6-3f89-4cdb-8516-c566d915debf",
   "metadata": {},
   "source": [
    "## 2.3.1.0"
   ]
  },
  {
   "cell_type": "markdown",
   "id": "633f7783-0a21-43eb-8c6a-6341d8eeec37",
   "metadata": {},
   "source": [
    "Perform the first level GLM using the your seed signal as a regressor."
   ]
  },
  {
   "cell_type": "code",
   "execution_count": null,
   "id": "2bf233c7-c5c3-4e9c-8786-91d5046affb2",
   "metadata": {},
   "outputs": [],
   "source": []
  },
  {
   "cell_type": "markdown",
   "id": "4d920c40-0f10-443f-aa57-5a2aadac03ce",
   "metadata": {},
   "source": [
    "## 2.3.1.1"
   ]
  },
  {
   "cell_type": "markdown",
   "id": "6492691b-53d3-48af-b0dd-26f06fb585b0",
   "metadata": {},
   "source": [
    "**Bonus**\n",
    "\n",
    "Perform the second level GLM across the various subjects"
   ]
  },
  {
   "cell_type": "code",
   "execution_count": null,
   "id": "d86edd3c-3584-45b5-bb4e-75ff15537c55",
   "metadata": {},
   "outputs": [],
   "source": []
  }
 ],
 "metadata": {
  "kernelspec": {
   "display_name": "Python 3 (ipykernel)",
   "language": "python",
   "name": "python3"
  },
  "language_info": {
   "codemirror_mode": {
    "name": "ipython",
    "version": 3
   },
   "file_extension": ".py",
   "mimetype": "text/x-python",
   "name": "python",
   "nbconvert_exporter": "python",
   "pygments_lexer": "ipython3",
   "version": "3.9.12"
  }
 },
 "nbformat": 4,
 "nbformat_minor": 5
}
