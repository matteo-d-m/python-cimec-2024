{
 "cells": [
  {
   "cell_type": "markdown",
   "metadata": {},
   "source": [
    "# Practicals 3.1\n"
   ]
  },
  {
   "cell_type": "markdown",
   "metadata": {},
   "source": [
    "## Practicals 3.1.0"
   ]
  },
  {
   "cell_type": "code",
   "execution_count": 11,
   "metadata": {},
   "outputs": [
    {
     "name": "stdout",
     "output_type": "stream",
     "text": [
      "4.9\n"
     ]
    }
   ],
   "source": [
    "import scipy.stats as stats\n",
    "import numpy as np\n",
    "# Verify that the probability of getting a \n",
    "# falsely positive result is 5% when testing 1000 hypotheses with a \n",
    "# p-value threshold of 0.05. To test this, generate in a loop pairs \n",
    "# of datasets of normally distributed values with the same mean and \n",
    "# standard deviation. Then, perform a t-test on each pair of datasets. \n",
    "# Count the number of times you get a p-value below 0.05. \n",
    "#Repeat this 1000 times and count the number of times you get a p-value below 0.05.\n"
   ]
  },
  {
   "cell_type": "code",
   "execution_count": 7,
   "metadata": {},
   "outputs": [],
   "source": [
    "# Let's help out our TA Matteo with the analysis of the following dataset\n",
    "# (real, but for the subjects names) from a run of the modified attention network task.\n",
    "# to assess human visuospatial attention. \n",
    "# \n",
    "# In every trial, the following events happen:\n",
    "# \n",
    "#  1. An asterisk cue appears, high or low in the screen (cue_location: up / down) \n",
    "#     or in both screens (cue_location: both)\n",
    "#  2. The cue disappears, replaced by a horizontal row of arrows in either\n",
    "#     the upper or the lower hemiscreen (sequence_location: up/down) or both \n",
    "#     hemiscreens (sequence_location: both).\n",
    "#     The central arrow in the row (the \"target\") may or may not point \n",
    "#     in the same direction as the others (the \"flankers\")\n",
    "#  3. The row of arrows disappears, ending the trial\n",
    "# \n",
    "# Subjects must pay attention to the central arrow in the row and press \n",
    "# \"left\" if points left, \"right\" if it points right."
   ]
  },
  {
   "cell_type": "code",
   "execution_count": 31,
   "metadata": {},
   "outputs": [],
   "source": [
    "# Check for the normality of the reaction times distribution!\n",
    "# Make a QQ plot and test if the distribution is overall normal\n",
    "import pandas as pd\n",
    "df = pd.read_csv(\"/Users/vigji/Downloads/matteos-sample-data/all_data.csv\")\n",
    "\n",
    "# Use a suitable test to compare the reaction times when the arrow is congruent \n",
    "# (`target_congruent`: \"no\") or incongruent (`target_congruent`: \"no\") w/r/t the flankers.\n",
    "# Pool data from all subjects.\n",
    "\n",
    "# Use a suitable test to compare the reaction times when the `cue_location`\n",
    "# corresponded to the `sequence_location`.\n",
    "# Ignore the entries when the cue location was present in `both` locations.\n",
    "# Pool data from all subjects.\n"
   ]
  },
  {
   "cell_type": "markdown",
   "metadata": {},
   "source": [
    "# Practicals 3.2.1"
   ]
  },
  {
   "cell_type": "code",
   "execution_count": null,
   "metadata": {
    "is_executing": true
   },
   "outputs": [],
   "source": [
    "import numpy as np\n",
    "# Create an histogram of the following data array:\n",
    "data = np.random.normal(0, 1, 1000)"
   ]
  },
  {
   "cell_type": "code",
   "execution_count": null,
   "metadata": {
    "is_executing": true
   },
   "outputs": [],
   "source": [
    "# Then, transform it to have mean 0 and standard deviation 1 \n",
    "# using the scikit-learn transformer."
   ]
  },
  {
   "cell_type": "code",
   "execution_count": null,
   "metadata": {},
   "outputs": [],
   "source": [
    "# Apply the same transformation over a new dataset:\n",
    "data2 = np.random.normal(0, 1, 1000)\n",
    "\n"
   ]
  },
  {
   "cell_type": "code",
   "execution_count": null,
   "metadata": {},
   "outputs": [],
   "source": [
    "# Load the digit data set from sklearn.datasets.\n",
    "# The matrix you get is a 2D array of size (n_samples, n_features). \n",
    "# Each row corresponds to a digit image of size 8x8 pixels. \n",
    "# The target array contains the digit value for each image.\n",
    "\n",
    "from sklearn.datasets import load_digits\n",
    "\n",
    "data, labels = load_digits(return_X_y=True)"
   ]
  },
  {
   "cell_type": "code",
   "execution_count": null,
   "metadata": {},
   "outputs": [],
   "source": [
    "# Plot the first images of the dataset! \n",
    "# To plot them, reshape the 64 dimensions (pixels) of a data point \n",
    "# into a 8x8 image matrix to imshow.\n"
   ]
  },
  {
   "cell_type": "code",
   "execution_count": null,
   "metadata": {},
   "outputs": [],
   "source": [
    "# It is difficult to visualize the distribution of those points! \n",
    "# Use dimensionality reduction to project the data into 2 dimensions. \n",
    "# Plot those new dimensions using the labels as color.\n"
   ]
  },
  {
   "cell_type": "code",
   "execution_count": null,
   "metadata": {
    "is_executing": true
   },
   "outputs": [],
   "source": [
    "# Split the data into train and test set.\n"
   ]
  },
  {
   "cell_type": "code",
   "execution_count": null,
   "metadata": {
    "is_executing": true
   },
   "outputs": [],
   "source": [
    "# Create a K-Nearest Neighbors classifier and train it on the train set.\n"
   ]
  },
  {
   "cell_type": "code",
   "execution_count": null,
   "metadata": {},
   "outputs": [],
   "source": [
    "# Evaluate the accuracy of the classifier on the test set by creating \n",
    "# a confounding matrix. Plot it and try to interpret it!\n"
   ]
  }
 ],
 "metadata": {
  "kernelspec": {
   "display_name": "course-env",
   "language": "python",
   "name": "course-env"
  },
  "language_info": {
   "codemirror_mode": {
    "name": "ipython",
    "version": 3
   },
   "file_extension": ".py",
   "mimetype": "text/x-python",
   "name": "python",
   "nbconvert_exporter": "python",
   "pygments_lexer": "ipython3",
   "version": "3.10.13"
  }
 },
 "nbformat": 4,
 "nbformat_minor": 1
}
